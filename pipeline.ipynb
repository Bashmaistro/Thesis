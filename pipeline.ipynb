{
 "cells": [
  {
   "cell_type": "code",
   "execution_count": null,
   "id": "fceb71e4",
   "metadata": {},
   "outputs": [],
   "source": [
    "\n"
   ]
  },
  {
   "cell_type": "code",
   "execution_count": null,
   "id": "5f58d13c",
   "metadata": {},
   "outputs": [
    {
     "ename": "NameError",
     "evalue": "name 'result' is not defined",
     "output_type": "error",
     "traceback": [
      "\u001b[0;31m---------------------------------------------------------------------------\u001b[0m",
      "\u001b[0;31mNameError\u001b[0m                                 Traceback (most recent call last)",
      "Cell \u001b[0;32mIn[1], line 50\u001b[0m\n\u001b[1;32m     47\u001b[0m         shutil\u001b[38;5;241m.\u001b[39mmove(tam_yol, hedef_yol)\n\u001b[1;32m     48\u001b[0m         \u001b[38;5;28mprint\u001b[39m(\u001b[38;5;124m\"\u001b[39m\u001b[38;5;124mDosya Tasindi:\u001b[39m\u001b[38;5;124m\"\u001b[39m \u001b[38;5;241m+\u001b[39m file)\n\u001b[0;32m---> 50\u001b[0m \u001b[38;5;28;01mdel\u001b[39;00m result\n\u001b[1;32m     51\u001b[0m \u001b[38;5;28;01mdel\u001b[39;00m name\n\u001b[1;32m     52\u001b[0m \u001b[38;5;28;01mdel\u001b[39;00m file\n",
      "\u001b[0;31mNameError\u001b[0m: name 'result' is not defined"
     ]
    }
   ],
   "source": [
    "import os\n",
    "import gc\n",
    "import shutil\n",
    "from Pipeline.Filterize import Filterizer\n",
    "from Pipeline.Kmeanspredict import sample_from_clusters\n",
    "import numpy as np\n",
    "import cupy as cp\n",
    "from cuml.cluster import KMeans as cuKMeans\n",
    "\n",
    "klasor_yolu = 'selected_dicoms_astro'  # Girdi klasörü\n",
    "tasinan_dosyalar_klasoru = 'islenen_dicomlar_astro'  # İşlenen dosyaların taşınacağı klasör\n",
    "os.makedirs(tasinan_dosyalar_klasoru, exist_ok=True)\n",
    "\n",
    "dcm_path_listesi = []\n",
    "\n",
    "for root, _, files in os.walk(klasor_yolu):\n",
    "    for file in files:\n",
    "        if file.lower().endswith('.dcm'):\n",
    "            tam_yol = os.path.join(root, file)\n",
    "            print(\"Dosya Isleniyor:\" + name)\n",
    "            name = file.split(\"/\")[0].split(\".\")[0]\n",
    "            print(\"Dosya Isleniyor:\" + name)\n",
    "            \n",
    "            result = Filterizer(tam_yol)\n",
    "            print(\"Dosya Filtrelendi:\" + name)\n",
    "            \n",
    "            \n",
    "            \n",
    "            result = sample_from_clusters(\n",
    "                data_array=result,\n",
    "                saved_centroids=np.load(\"test_inc_cluster_centers_10.npy\"),\n",
    "                n_clusters=10,\n",
    "                target_clusters=[8, 6, 1],\n",
    "                total_slices=2500\n",
    "            )\n",
    "            print(\"Dosya Kumelendi:\" + name)\n",
    "            \n",
    "            save_dir = \"astro_2000_mlp\"\n",
    "            os.makedirs(save_dir, exist_ok=True)\n",
    "            np.save(os.path.join(save_dir, name), result)\n",
    "            print(\"Dosya Kaydedildi\")\n",
    "            \n",
    "            # Orijinal .dcm dosyasını başka klasöre taşı\n",
    "            hedef_yol = os.path.join(tasinan_dosyalar_klasoru, file)\n",
    "            shutil.move(tam_yol, hedef_yol)\n",
    "            print(\"Dosya Tasindi:\" + file)\n",
    "            \n",
    "    del result\n",
    "    del name\n",
    "    del file\n",
    "    cp.get_default_memory_pool().free_all_blocks()\n",
    "    import gc\n",
    "    gc.collect()\n"
   ]
  }
 ],
 "metadata": {
  "kernelspec": {
   "display_name": "cuda",
   "language": "python",
   "name": "python3"
  },
  "language_info": {
   "codemirror_mode": {
    "name": "ipython",
    "version": 3
   },
   "file_extension": ".py",
   "mimetype": "text/x-python",
   "name": "python",
   "nbconvert_exporter": "python",
   "pygments_lexer": "ipython3",
   "version": "3.10.9"
  }
 },
 "nbformat": 4,
 "nbformat_minor": 5
}
