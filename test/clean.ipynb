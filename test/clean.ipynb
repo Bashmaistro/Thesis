{
 "cells": [
  {
   "cell_type": "code",
   "execution_count": 1,
   "id": "97d980bf",
   "metadata": {},
   "outputs": [
    {
     "name": "stdout",
     "output_type": "stream",
     "text": [
      "Original shape: (4916, 45)\n",
      "Duplicated IDs: 3687\n",
      "Shape after merging duplicates: (1229, 45)\n"
     ]
    }
   ],
   "source": [
    "import pandas as pd\n",
    "import numpy as np\n",
    "\n",
    "# Load and rename\n",
    "meta = pd.read_csv(\"meta.csv\")\n",
    "meta = meta.rename(columns={\n",
    "    'cases.submitter_id': 'id',\n",
    "    'demographic.age_at_index': 'age',\n",
    "    'demographic.gender': 'sex',\n",
    "    'diagnoses.tumor_grade': 'grade',\n",
    "    'diagnoses.primary_diagnosis': 'gt',\n",
    "    'demographic.days_to_death': 'death',\n",
    "    \"demographic.vital_status\": \"mortality\",\n",
    "    \"treatments.treatment_type\": \"treatment\"\n",
    "})\n",
    "\n",
    "# Clean ID column\n",
    "meta['id'] = meta['id'].str.strip().str.upper()\n",
    "\n",
    "print(\"Original shape:\", meta.shape)\n",
    "print(\"Duplicated IDs:\", meta['id'].duplicated().sum())\n",
    "\n",
    "# Merge by taking first non-null value per column in each ID group\n",
    "meta = meta.groupby('id').agg(lambda x: x.dropna().iloc[0] if not x.dropna().empty else np.nan).reset_index()\n",
    "\n",
    "print(\"Shape after merging duplicates:\", meta.shape)\n"
   ]
  },
  {
   "cell_type": "code",
   "execution_count": 2,
   "id": "fd5cfb32",
   "metadata": {},
   "outputs": [
    {
     "name": "stdout",
     "output_type": "stream",
     "text": [
      "Number of duplicated IDs: 0\n",
      "Unique IDs: 1229\n",
      "Total rows: 1229\n"
     ]
    }
   ],
   "source": [
    "print(\"Number of duplicated IDs:\", meta['id'].duplicated().sum())\n",
    "print(\"Unique IDs:\", meta['id'].nunique())\n",
    "print(\"Total rows:\", meta.shape[0])\n"
   ]
  },
  {
   "cell_type": "code",
   "execution_count": 3,
   "id": "56b69e58",
   "metadata": {},
   "outputs": [
    {
     "data": {
      "text/html": [
       "<div>\n",
       "<style scoped>\n",
       "    .dataframe tbody tr th:only-of-type {\n",
       "        vertical-align: middle;\n",
       "    }\n",
       "\n",
       "    .dataframe tbody tr th {\n",
       "        vertical-align: top;\n",
       "    }\n",
       "\n",
       "    .dataframe thead th {\n",
       "        text-align: right;\n",
       "    }\n",
       "</style>\n",
       "<table border=\"1\" class=\"dataframe\">\n",
       "  <thead>\n",
       "    <tr style=\"text-align: right;\">\n",
       "      <th></th>\n",
       "      <th>id</th>\n",
       "      <th>demographic.days_to_birth</th>\n",
       "      <th>death</th>\n",
       "      <th>age</th>\n",
       "      <th>diagnoses.age_at_diagnosis</th>\n",
       "      <th>gt</th>\n",
       "      <th>grade</th>\n",
       "      <th>sex</th>\n",
       "      <th>mortality</th>\n",
       "      <th>treatment</th>\n",
       "      <th>...</th>\n",
       "      <th>treatment_type_Radiation, External Beam_onehot</th>\n",
       "      <th>treatment_type_Pharmaceutical Therapy, NOS_onehot</th>\n",
       "      <th>treatment_type_Surgery, NOS_onehot</th>\n",
       "      <th>treatment_type_Radiation, Cyberknife_onehot</th>\n",
       "      <th>treatment_type_Radiation, Stereotactic/Gamma Knife/SRS_onehot</th>\n",
       "      <th>treatment_type_Radiation, Intensity-Modulated Radiotherapy_onehot</th>\n",
       "      <th>treatment_type_Brachytherapy, NOS_onehot</th>\n",
       "      <th>treatment_type_Antiseizure Treatment_onehot</th>\n",
       "      <th>treatment_type_Steroid Therapy_onehot</th>\n",
       "      <th>treatment_type_Radiation, Radioisotope_onehot</th>\n",
       "    </tr>\n",
       "  </thead>\n",
       "  <tbody>\n",
       "    <tr>\n",
       "      <th>0</th>\n",
       "      <td>C1230738</td>\n",
       "      <td>NaN</td>\n",
       "      <td>640.0</td>\n",
       "      <td>53.0</td>\n",
       "      <td>NaN</td>\n",
       "      <td>Glioblastoma</td>\n",
       "      <td>G4</td>\n",
       "      <td>female</td>\n",
       "      <td>Dead</td>\n",
       "      <td>NaN</td>\n",
       "      <td>...</td>\n",
       "      <td>0</td>\n",
       "      <td>0</td>\n",
       "      <td>0</td>\n",
       "      <td>0</td>\n",
       "      <td>0</td>\n",
       "      <td>0</td>\n",
       "      <td>0</td>\n",
       "      <td>0</td>\n",
       "      <td>0</td>\n",
       "      <td>0</td>\n",
       "    </tr>\n",
       "    <tr>\n",
       "      <th>1</th>\n",
       "      <td>C1245129</td>\n",
       "      <td>NaN</td>\n",
       "      <td>598.0</td>\n",
       "      <td>43.0</td>\n",
       "      <td>NaN</td>\n",
       "      <td>Glioblastoma</td>\n",
       "      <td>G4</td>\n",
       "      <td>male</td>\n",
       "      <td>Dead</td>\n",
       "      <td>NaN</td>\n",
       "      <td>...</td>\n",
       "      <td>0</td>\n",
       "      <td>0</td>\n",
       "      <td>0</td>\n",
       "      <td>0</td>\n",
       "      <td>0</td>\n",
       "      <td>0</td>\n",
       "      <td>0</td>\n",
       "      <td>0</td>\n",
       "      <td>0</td>\n",
       "      <td>0</td>\n",
       "    </tr>\n",
       "    <tr>\n",
       "      <th>2</th>\n",
       "      <td>C204057</td>\n",
       "      <td>NaN</td>\n",
       "      <td>351.0</td>\n",
       "      <td>65.0</td>\n",
       "      <td>NaN</td>\n",
       "      <td>Glioblastoma</td>\n",
       "      <td>G4</td>\n",
       "      <td>female</td>\n",
       "      <td>Dead</td>\n",
       "      <td>NaN</td>\n",
       "      <td>...</td>\n",
       "      <td>0</td>\n",
       "      <td>0</td>\n",
       "      <td>0</td>\n",
       "      <td>0</td>\n",
       "      <td>0</td>\n",
       "      <td>0</td>\n",
       "      <td>0</td>\n",
       "      <td>0</td>\n",
       "      <td>0</td>\n",
       "      <td>0</td>\n",
       "    </tr>\n",
       "    <tr>\n",
       "      <th>3</th>\n",
       "      <td>C207624</td>\n",
       "      <td>NaN</td>\n",
       "      <td>733.0</td>\n",
       "      <td>55.0</td>\n",
       "      <td>NaN</td>\n",
       "      <td>Glioblastoma</td>\n",
       "      <td>G4</td>\n",
       "      <td>female</td>\n",
       "      <td>Dead</td>\n",
       "      <td>NaN</td>\n",
       "      <td>...</td>\n",
       "      <td>0</td>\n",
       "      <td>0</td>\n",
       "      <td>0</td>\n",
       "      <td>0</td>\n",
       "      <td>0</td>\n",
       "      <td>0</td>\n",
       "      <td>0</td>\n",
       "      <td>0</td>\n",
       "      <td>0</td>\n",
       "      <td>0</td>\n",
       "    </tr>\n",
       "    <tr>\n",
       "      <th>4</th>\n",
       "      <td>C208854</td>\n",
       "      <td>NaN</td>\n",
       "      <td>253.0</td>\n",
       "      <td>67.0</td>\n",
       "      <td>NaN</td>\n",
       "      <td>Glioblastoma</td>\n",
       "      <td>G4</td>\n",
       "      <td>male</td>\n",
       "      <td>Dead</td>\n",
       "      <td>NaN</td>\n",
       "      <td>...</td>\n",
       "      <td>0</td>\n",
       "      <td>0</td>\n",
       "      <td>0</td>\n",
       "      <td>0</td>\n",
       "      <td>0</td>\n",
       "      <td>0</td>\n",
       "      <td>0</td>\n",
       "      <td>0</td>\n",
       "      <td>0</td>\n",
       "      <td>0</td>\n",
       "    </tr>\n",
       "  </tbody>\n",
       "</table>\n",
       "<p>5 rows × 45 columns</p>\n",
       "</div>"
      ],
      "text/plain": [
       "         id  demographic.days_to_birth  death   age  \\\n",
       "0  C1230738                        NaN  640.0  53.0   \n",
       "1  C1245129                        NaN  598.0  43.0   \n",
       "2   C204057                        NaN  351.0  65.0   \n",
       "3   C207624                        NaN  733.0  55.0   \n",
       "4   C208854                        NaN  253.0  67.0   \n",
       "\n",
       "   diagnoses.age_at_diagnosis            gt grade     sex mortality treatment  \\\n",
       "0                         NaN  Glioblastoma    G4  female      Dead       NaN   \n",
       "1                         NaN  Glioblastoma    G4    male      Dead       NaN   \n",
       "2                         NaN  Glioblastoma    G4  female      Dead       NaN   \n",
       "3                         NaN  Glioblastoma    G4  female      Dead       NaN   \n",
       "4                         NaN  Glioblastoma    G4    male      Dead       NaN   \n",
       "\n",
       "   ... treatment_type_Radiation, External Beam_onehot  \\\n",
       "0  ...                                              0   \n",
       "1  ...                                              0   \n",
       "2  ...                                              0   \n",
       "3  ...                                              0   \n",
       "4  ...                                              0   \n",
       "\n",
       "  treatment_type_Pharmaceutical Therapy, NOS_onehot  \\\n",
       "0                                                 0   \n",
       "1                                                 0   \n",
       "2                                                 0   \n",
       "3                                                 0   \n",
       "4                                                 0   \n",
       "\n",
       "  treatment_type_Surgery, NOS_onehot  \\\n",
       "0                                  0   \n",
       "1                                  0   \n",
       "2                                  0   \n",
       "3                                  0   \n",
       "4                                  0   \n",
       "\n",
       "  treatment_type_Radiation, Cyberknife_onehot  \\\n",
       "0                                           0   \n",
       "1                                           0   \n",
       "2                                           0   \n",
       "3                                           0   \n",
       "4                                           0   \n",
       "\n",
       "  treatment_type_Radiation, Stereotactic/Gamma Knife/SRS_onehot  \\\n",
       "0                                                  0              \n",
       "1                                                  0              \n",
       "2                                                  0              \n",
       "3                                                  0              \n",
       "4                                                  0              \n",
       "\n",
       "   treatment_type_Radiation, Intensity-Modulated Radiotherapy_onehot  \\\n",
       "0                                                  0                   \n",
       "1                                                  0                   \n",
       "2                                                  0                   \n",
       "3                                                  0                   \n",
       "4                                                  0                   \n",
       "\n",
       "   treatment_type_Brachytherapy, NOS_onehot  \\\n",
       "0                                         0   \n",
       "1                                         0   \n",
       "2                                         0   \n",
       "3                                         0   \n",
       "4                                         0   \n",
       "\n",
       "   treatment_type_Antiseizure Treatment_onehot  \\\n",
       "0                                            0   \n",
       "1                                            0   \n",
       "2                                            0   \n",
       "3                                            0   \n",
       "4                                            0   \n",
       "\n",
       "  treatment_type_Steroid Therapy_onehot  \\\n",
       "0                                     0   \n",
       "1                                     0   \n",
       "2                                     0   \n",
       "3                                     0   \n",
       "4                                     0   \n",
       "\n",
       "   treatment_type_Radiation, Radioisotope_onehot  \n",
       "0                                              0  \n",
       "1                                              0  \n",
       "2                                              0  \n",
       "3                                              0  \n",
       "4                                              0  \n",
       "\n",
       "[5 rows x 45 columns]"
      ]
     },
     "execution_count": 3,
     "metadata": {},
     "output_type": "execute_result"
    }
   ],
   "source": [
    "meta.head()"
   ]
  },
  {
   "cell_type": "code",
   "execution_count": 4,
   "id": "39e170d1",
   "metadata": {},
   "outputs": [],
   "source": [
    "# Create a new 'age_combined' column using age or fallback to age_at_diagnosis\n",
    "meta['age'] = meta['age'].combine_first(meta['diagnoses.age_at_diagnosis'])\n",
    "meta['age'] = meta['age'].combine_first(meta['demographic.days_to_birth'])\n",
    "\n",
    "# Drop the now redundant 'diagnoses.age_at_diagnosis'\n",
    "meta = meta.drop(columns=['diagnoses.age_at_diagnosis'])\n",
    "meta = meta.drop(columns=['demographic.days_to_birth'])"
   ]
  },
  {
   "cell_type": "code",
   "execution_count": 5,
   "id": "68bf5865",
   "metadata": {},
   "outputs": [
    {
     "name": "stdout",
     "output_type": "stream",
     "text": [
      "Shape after filtering by ID prefix: (1198, 43)\n"
     ]
    }
   ],
   "source": [
    "# Keep only IDs starting with 'TCGA', 'UPENN', or 'C3'\n",
    "meta = meta[meta['id'].str.startswith(('TCGA', 'UPENN', 'C3'))]\n",
    "\n",
    "print(\"Shape after filtering by ID prefix:\", meta.shape)\n"
   ]
  },
  {
   "cell_type": "code",
   "execution_count": 6,
   "id": "8c78aa10",
   "metadata": {},
   "outputs": [
    {
     "name": "stdout",
     "output_type": "stream",
     "text": [
      "Shape after dropping rows missing all of age, death, and grade: (1193, 43)\n"
     ]
    }
   ],
   "source": [
    "meta = meta.dropna(subset=['age', 'death', 'grade'], how='all')\n",
    "\n",
    "print(\"Shape after dropping rows missing all of age, death, and grade:\", meta.shape)\n"
   ]
  },
  {
   "cell_type": "code",
   "execution_count": 7,
   "id": "d68fa235",
   "metadata": {},
   "outputs": [],
   "source": [
    "# If you haven't renamed 'demographic.vital_status', use the original column name\n",
    "# Otherwise, replace 'vital_status' with your actual column name\n",
    "\n",
    "meta.loc[meta['mortality'] == 'Alive', 'death'] = 9999\n"
   ]
  },
  {
   "cell_type": "code",
   "execution_count": 8,
   "id": "34e3a8bf",
   "metadata": {},
   "outputs": [],
   "source": [
    "\n",
    "# Fix gt containing glioblastoma (case-insensitive, allowing minor typos)\n",
    "mask = meta['gt'].str.contains('glioblastoma', case=False, na=False)\n",
    "\n",
    "\n",
    "# Set grade to G4 where mask is True\n",
    "meta.loc[mask, 'grade'] = 'G4'\n",
    "\n",
    "# Correct spelling in gt\n",
    "meta.loc[mask, 'gt'] = 'Glioblastoma'\n",
    "\n",
    "\n",
    "# Standardize the glioma type values\n",
    "meta['gt'] = meta['gt'].str.lower()  # lowercase for consistent matching\n",
    "\n",
    "# Apply mapping\n",
    "meta['gt'] = meta['gt'].apply(lambda x: 'Oligodendroglioma' if isinstance(x, str) and 'oligo' in x else x)\n",
    "meta['gt'] = meta['gt'].apply(lambda x: 'Astrocytoma' if isinstance(x, str) and 'astro' in x else x)\n",
    "\n"
   ]
  },
  {
   "cell_type": "code",
   "execution_count": 9,
   "id": "2e52c884",
   "metadata": {},
   "outputs": [
    {
     "name": "stdout",
     "output_type": "stream",
     "text": [
      "Remaining missing values in 'age': 17\n"
     ]
    }
   ],
   "source": [
    "missing_age = meta['gt'].isna().sum()\n",
    "print(f\"Remaining missing values in 'age': {missing_age}\")"
   ]
  },
  {
   "cell_type": "code",
   "execution_count": 10,
   "id": "bfbf3d05",
   "metadata": {},
   "outputs": [],
   "source": [
    "meta= meta.replace(\n",
    "    to_replace=r'(?i)^not reported$',  # regex: case-insensitive exact match \"not reported\"\n",
    "    value=np.nan,\n",
    "    regex=True\n",
    ")\n",
    "meta= meta.replace(\n",
    "    to_replace=r'(?i)^unknown$',  # regex: case-insensitive exact match \"not reported\"\n",
    "    value=np.nan,\n",
    "    regex=True\n",
    ")\n"
   ]
  },
  {
   "cell_type": "code",
   "execution_count": 17,
   "id": "785d4642",
   "metadata": {},
   "outputs": [],
   "source": [
    "meta.loc[meta['grade'] == 'G4', 'gt'] = 'Glioblastoma'\n",
    "\n",
    "\n",
    "# Fill age and death using mean by glioma type\n",
    "meta['age'] = meta.groupby('gt')['age'].transform(lambda x: x.fillna(x.mean()))\n",
    "meta['death'] = meta.groupby('gt')['death'].transform(lambda x: x.fillna(x.mean()))\n",
    "\n",
    "# First attempt to fill grade by gt\n",
    "meta['grade'] = meta.groupby('gt')['grade'].transform(\n",
    "    lambda x: x.fillna(x.mode().iloc[0]) if not x.mode().empty else x\n",
    ")\n",
    "\n",
    "# Step 2: Fill remaining missing by 'mortality' — only if still NaN\n",
    "mask_missing = meta['grade'].isna()\n",
    "\n",
    "meta.loc[mask_missing, 'grade'] = (\n",
    "    meta[mask_missing]\n",
    "    .groupby('mortality')['grade']\n",
    "    .transform(lambda x: x.fillna(x.mode().iloc[0]) if not x.mode().empty else x)\n",
    ")\n",
    "\n",
    "# First attempt to fill grade by gt\n",
    "meta['mortality'] = meta.groupby('gt')['mortality'].transform(\n",
    "    lambda x: x.fillna(x.mode().iloc[0]) if not x.mode().empty else x\n",
    ")"
   ]
  },
  {
   "cell_type": "code",
   "execution_count": 12,
   "id": "814bb4e4",
   "metadata": {},
   "outputs": [
    {
     "name": "stdout",
     "output_type": "stream",
     "text": [
      "Filled missing 'sex' values with majority: male\n"
     ]
    }
   ],
   "source": [
    "# Find the most frequent value in 'sex' column (ignoring NaNs)\n",
    "majority_sex = meta['sex'].mode()[0]\n",
    "\n",
    "# Fill missing values with the majority\n",
    "meta['sex'] = meta['sex'].fillna(majority_sex)\n",
    "\n",
    "print(f\"Filled missing 'sex' values with majority: {majority_sex}\")\n"
   ]
  },
  {
   "cell_type": "code",
   "execution_count": 13,
   "id": "3add5e39",
   "metadata": {},
   "outputs": [],
   "source": [
    "# Define columns to retain\n",
    "columns_to_keep = [\n",
    "    'id',\n",
    "    'death',\n",
    "    'age',\n",
    "    'gt',\n",
    "    'grade',\n",
    "    'sex',\n",
    "    'mortality',\n",
    "    'treatment'\n",
    "]\n",
    "\n",
    "# Filter the DataFrame\n",
    "meta = meta[columns_to_keep]\n",
    "\n",
    "# Save to CSV\n"
   ]
  },
  {
   "cell_type": "code",
   "execution_count": 14,
   "id": "b8b1b8d4",
   "metadata": {},
   "outputs": [
    {
     "name": "stdout",
     "output_type": "stream",
     "text": [
      "Number of rows with missing age: 2\n"
     ]
    },
    {
     "data": {
      "text/html": [
       "<div>\n",
       "<style scoped>\n",
       "    .dataframe tbody tr th:only-of-type {\n",
       "        vertical-align: middle;\n",
       "    }\n",
       "\n",
       "    .dataframe tbody tr th {\n",
       "        vertical-align: top;\n",
       "    }\n",
       "\n",
       "    .dataframe thead th {\n",
       "        text-align: right;\n",
       "    }\n",
       "</style>\n",
       "<table border=\"1\" class=\"dataframe\">\n",
       "  <thead>\n",
       "    <tr style=\"text-align: right;\">\n",
       "      <th></th>\n",
       "      <th>id</th>\n",
       "      <th>death</th>\n",
       "      <th>age</th>\n",
       "      <th>gt</th>\n",
       "      <th>grade</th>\n",
       "      <th>sex</th>\n",
       "      <th>mortality</th>\n",
       "      <th>treatment</th>\n",
       "    </tr>\n",
       "  </thead>\n",
       "  <tbody>\n",
       "    <tr>\n",
       "      <th>1001</th>\n",
       "      <td>TCGA-FG-A713</td>\n",
       "      <td>9999.0</td>\n",
       "      <td>74.0</td>\n",
       "      <td>basal cell carcinoma, nos</td>\n",
       "      <td>NaN</td>\n",
       "      <td>female</td>\n",
       "      <td>Alive</td>\n",
       "      <td>Surgery, NOS</td>\n",
       "    </tr>\n",
       "    <tr>\n",
       "      <th>1086</th>\n",
       "      <td>TCGA-HW-7490</td>\n",
       "      <td>9999.0</td>\n",
       "      <td>41.0</td>\n",
       "      <td>papillary carcinoma, nos</td>\n",
       "      <td>NaN</td>\n",
       "      <td>male</td>\n",
       "      <td>Alive</td>\n",
       "      <td>Radiation Therapy, NOS</td>\n",
       "    </tr>\n",
       "  </tbody>\n",
       "</table>\n",
       "</div>"
      ],
      "text/plain": [
       "                id   death   age                         gt grade     sex  \\\n",
       "1001  TCGA-FG-A713  9999.0  74.0  basal cell carcinoma, nos   NaN  female   \n",
       "1086  TCGA-HW-7490  9999.0  41.0   papillary carcinoma, nos   NaN    male   \n",
       "\n",
       "     mortality               treatment  \n",
       "1001     Alive            Surgery, NOS  \n",
       "1086     Alive  Radiation Therapy, NOS  "
      ]
     },
     "metadata": {},
     "output_type": "display_data"
    }
   ],
   "source": [
    "meta = meta.dropna(subset=['age', 'death', 'grade'], how='all')\n",
    "\n",
    "# Show rows where 'age' is missing\n",
    "missing_age_rows = meta[meta['grade'].isna()]\n",
    "\n",
    "print(f\"Number of rows with missing age: {len(missing_age_rows)}\")\n",
    "display(missing_age_rows)\n"
   ]
  },
  {
   "cell_type": "code",
   "execution_count": 15,
   "id": "34c51d83",
   "metadata": {},
   "outputs": [
    {
     "data": {
      "image/png": "[encoded data removed]",
      "text/plain": [
       "<Figure size 800x500 with 1 Axes>"
      ]
     },
     "metadata": {},
     "output_type": "display_data"
    }
   ],
   "source": [
    "import matplotlib.pyplot as plt\n",
    "import seaborn as sns\n",
    "\n",
    "plt.figure(figsize=(8,5))\n",
    "\n",
    "# Using matplotlib\n",
    "plt.hist(meta['death'].dropna(), bins=30, color='skyblue', edgecolor='black')\n",
    "plt.title('Histogram of Death (days_to_death)')\n",
    "plt.xlabel('Days to Death')\n",
    "plt.ylabel('Frequency')\n",
    "plt.show()\n"
   ]
  },
  {
   "cell_type": "code",
   "execution_count": 16,
   "id": "7d2e3491",
   "metadata": {},
   "outputs": [],
   "source": [
    "meta.to_csv(\"meta_final_cleaned.csv\", index=False)\n"
   ]
  }
 ],
 "metadata": {
  "kernelspec": {
   "display_name": "mri",
   "language": "python",
   "name": "python3"
  },
  "language_info": {
   "codemirror_mode": {
    "name": "ipython",
    "version": 3
   },
   "file_extension": ".py",
   "mimetype": "text/x-python",
   "name": "python",
   "nbconvert_exporter": "python",
   "pygments_lexer": "ipython3",
   "version": "3.11.11"
  }
 },
 "nbformat": 4,
 "nbformat_minor": 5
}
