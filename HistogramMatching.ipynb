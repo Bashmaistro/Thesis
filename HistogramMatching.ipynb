{
 "cells": [
  {
   "cell_type": "code",
   "execution_count": null,
   "metadata": {},
   "outputs": [
    {
     "name": "stdout",
     "output_type": "stream",
     "text": [
      "Histogram matched CT saved to target_ct_hist_matched_5.nii\n"
     ]
    }
   ],
   "source": [
    "import nibabel as nib\n",
    "import numpy as np\n",
    "from skimage.exposure import match_histograms\n",
    "import os\n",
    "\n",
    "# Load NIfTI file\n",
    "def load_nifti(file_path):\n",
    "    nii = nib.load(file_path)\n",
    "    data = nii.get_fdata()\n",
    "    affine = nii.affine\n",
    "    header = nii.header\n",
    "    return data, affine, header\n",
    "\n",
    "# Save NIfTI file\n",
    "def save_nifti(data, affine, header, output_path):\n",
    "    new_img = nib.Nifti1Image(data, affine, header)\n",
    "    nib.save(new_img, output_path)\n",
    "\n",
    "# Paths (example)\n",
    "reference_path = 'TCGA-HT-A5RB.nii.gz'\n",
    "target_path = 'TCGA-HT-A61A.nii.gz'\n",
    "output_path = 'target_ct_hist_matched_5.nii'\n",
    "\n",
    "# Load reference and target\n",
    "ref_data, refader_affine, ref_he = load_nifti(reference_path)\n",
    "target_data, target_affine, target_header = load_nifti(target_path)\n",
    "\n",
    "\n",
    "# Perform histogram matching (3D volumes)\n",
    "matched = match_histograms(target_data, ref_data, channel_axis=None)\n",
    "\n",
    "# Save result\n",
    "save_nifti(matched, target_affine, target_header, output_path)\n",
    "\n",
    "print(f\"Histogram matched CT saved to {output_path}\")\n"
   ]
  },
  {
   "cell_type": "code",
   "execution_count": 5,
   "metadata": {},
   "outputs": [
    {
     "name": "stdout",
     "output_type": "stream",
     "text": [
      "Smoothed image saved to t1c_smoothed.nii\n"
     ]
    }
   ],
   "source": [
    "import nibabel as nib\n",
    "import numpy as np\n",
    "from scipy.ndimage import gaussian_filter\n",
    "\n",
    "# Load NIfTI file\n",
    "def load_nifti(file_path):\n",
    "    nii = nib.load(file_path)\n",
    "    data = nii.get_fdata()\n",
    "    affine = nii.affine\n",
    "    header = nii.header\n",
    "    return data, affine, header\n",
    "\n",
    "# Save NIfTI file\n",
    "def save_nifti(data, affine, header, output_path):\n",
    "    new_img = nib.Nifti1Image(data, affine, header)\n",
    "    nib.save(new_img, output_path)\n",
    "\n",
    "# === Example usage ===\n",
    "input_path = 'TCGA-HT-A61A.nii.gz'     # your T1c or CT file\n",
    "output_path = 't1c_smoothed.nii'\n",
    "\n",
    "# Load image\n",
    "data, affine, header = load_nifti(input_path)\n",
    "\n",
    "# Apply 3D Gaussian filter\n",
    "sigma = 1.0  # Standard deviation in voxels; try 1.0 - 2.0 first\n",
    "smoothed_data = gaussian_filter(data, sigma=sigma)\n",
    "\n",
    "# Save result\n",
    "save_nifti(smoothed_data, affine, header, output_path)\n",
    "\n",
    "print(f\"Smoothed image saved to {output_path}\")\n"
   ]
  }
 ],
 "metadata": {
  "kernelspec": {
   "display_name": "thesis",
   "language": "python",
   "name": "python3"
  },
  "language_info": {
   "codemirror_mode": {
    "name": "ipython",
    "version": 3
   },
   "file_extension": ".py",
   "mimetype": "text/x-python",
   "name": "python",
   "nbconvert_exporter": "python",
   "pygments_lexer": "ipython3",
   "version": "3.12.8"
  }
 },
 "nbformat": 4,
 "nbformat_minor": 2
}
