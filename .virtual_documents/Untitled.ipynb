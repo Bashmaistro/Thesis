import os
import gc
import Filter
import pydicom

# Kaynak ve hedef klasörleri tanımlayın
source_dir = "Tcga_lgg_olio_ready"
target_dir = "Tcga_lgg_olio_filtered"

# Hedef klasörü oluştur (varsa atla)
os.makedirs(target_dir, exist_ok=True)

# Klasördeki tüm DICOM dosyalarını işle
for filename in os.listdir(source_dir):
    if filename.endswith(".dcm"):
        file_path = os.path.join(source_dir, filename)
        
        # RAM temizleme
        gc.collect()
        
        # DICOM dosyasını filtrele
        ds = Filter.white_filter(file_path)
        
        # Yeni dosya adı oluştur
        new_filename = f"{ds.StudyID}_{filename}"
        new_file_path = os.path.join(target_dir, new_filename)
        
        # İşlenmiş dosyayı kaydet
        ds.save_as(new_file_path)
        print(f"Processed and saved: {new_file_path}")










