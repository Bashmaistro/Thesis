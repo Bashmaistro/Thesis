import os
import shutil

def find_largest_file(directory):
    """Verilen dizindeki en büyük dosyayı bulur."""
    largest_file = None
    largest_size = 0
    
    for root, _, files in os.walk(directory):
        for file in files:
            file_path = os.path.join(root, file)
            file_size = os.path.getsize(file_path)
            if file_size > largest_size:
                largest_size = file_size
                largest_file = file_path
    
    return largest_file

def copy_largest_files(base_path, destination_folder):
    """TCGA klasörlerinden başlayarak her SM klasörünün içindeki en büyük dosyayı bulup belirtilen klasöre kopyalar."""
    if not os.path.exists(destination_folder):
        os.makedirs(destination_folder)
    
    for tcga_folder in os.listdir(base_path):
        tcga_path = os.path.join(base_path, tcga_folder)
        if os.path.isdir(tcga_path):
            for root, dirs, _ in os.walk(tcga_path):
                for dir_name in dirs:
                    if dir_name.startswith("SM"):
                        sm_path = os.path.join(root, dir_name)
                        if os.path.isdir(sm_path):
                            largest_file = find_largest_file(sm_path)
                            if largest_file:
                                dest_path = os.path.join(destination_folder, os.path.basename(largest_file))
                                shutil.copy2(largest_file, dest_path)
                                print(f"Kopyalandı: {largest_file} -> {dest_path}")
                            else:
                                print(f"Dosya bulunamadı: {sm_path}")

dosya_kaynak_yolu = "tcga_lgg_astrocytoma"  # TCGA klasörlerinin olduğu ana dizin
dosya_hedef_yolu = "Tcga_lgg_astro_ready"  # Dosyaların içine kopyalanacağı dosya

copy_largest_files(dosya_kaynak_yolu, dosya_hedef_yolu)




