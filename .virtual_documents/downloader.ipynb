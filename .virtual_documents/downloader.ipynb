import os
import subprocess
import shutil

# Hastaların ID'lerini listeler halinde tanımlayın
oligodendroglioma_ids = [
    "TCGA-E1-5311","TCGA-HT-7677","TCGA-DU-7009","TCGA-FG-8191","TCGA-S9-A7J3"
    
]

astrocytoma_ids = [
    "TCGA-VM-A8CF", "TCGA-DU-A5TY", "TCGA-HT-7604", "TCGA-S9-A7IZ", "TCGA-TM-A7CF",
    
    
]



home_dir = os.path.expanduser("~")
tcga_lgg_dir = os.path.join(home_dir, "tcga_lgg")
oligodendroglioma_dir = os.path.join(home_dir, "oligodendroglioma")
astrocytoma_dir = os.path.join(home_dir, "astrocytoma")


os.makedirs(oligodendroglioma_dir, exist_ok=True)
os.makedirs(astrocytoma_dir, exist_ok=True)

def download_and_categorize(patient_id, category_dir):
    """Hastayı indir, ardından hedef klasöre taşı."""
    try:
        
        command = f"idc download {patient_id}"
        print(f"Running: {command}")
        subprocess.run(command, shell=True, check=True)

        
        source_dir = os.path.join(tcga_lgg_dir, patient_id)

        if os.path.exists(source_dir):
            # Hedef dizine taşı
            destination_dir = os.path.join(category_dir, patient_id)
            shutil.move(source_dir, destination_dir)
            print(f"Moved {patient_id} to {category_dir}")
        else:
            print(f"Source directory not found for {patient_id}: {source_dir}")
    except subprocess.CalledProcessError as e:
        print(f"Error downloading {patient_id}: {e}")
    except Exception as ex:
        print(f"Unexpected error: {ex}")

# Oligodendroglioma hastalarını indir ve taşı
for patient_id in oligodendroglioma_ids:
    download_and_categorize(patient_id, oligodendroglioma_dir)

# Astrocytoma hastalarını indir ve taşı
for patient_id in astrocytoma_ids:
    download_and_categorize(patient_id, astrocytoma_dir)



import os
import subprocess
import shutil


patient_ids = [
    "TCGA-E1-5311","TCGA-HT-7677","TCGA-DU-7009","TCGA-FG-8191","TCGA-S9-A7J3",
]

# Ana klasör ve alt klasörlerin yollarını oluştur
home_dir = os.path.expanduser("~")
tcga_main_dir = os.path.join(home_dir, "tcga_data")
tcga_patient_dir = os.path.join(tcga_main_dir, "patients")

os.makedirs(tcga_patient_dir, exist_ok=True)

def download_and_categorize(patient_id, destination_dir):
    """Hastayı indir, ardından hedef klasöre taşı."""
    try:
        # Hasta verisini indir
        command = f"idc download {patient_id}"
        print(f"Running: {command}")
        subprocess.run(command, shell=True, check=True)

        # İndirilen hasta klasörünü kontrol et
        source_dir = os.path.join(tcga_main_dir, patient_id)

        if os.path.exists(source_dir):
            # Hedef dizine taşı
            final_dir = os.path.join(destination_dir, patient_id)
            shutil.move(source_dir, final_dir)
            print(f"Moved {patient_id} to {destination_dir}")
        else:
            print(f"Source directory not found for {patient_id}: {source_dir}")
    except subprocess.CalledProcessError as e:
        print(f"Error downloading {patient_id}: {e}")
    except Exception as ex:
        print(f"Unexpected error: {ex}")

# Hastaları indir ve taşı
for patient_id in patient_ids:
    download_and_categorize(patient_id, tcga_patient_dir)



