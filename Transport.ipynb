{
 "cells": [
  {
   "cell_type": "code",
   "execution_count": 8,
   "id": "ec048884-597c-4e76-8531-b57c8097632b",
   "metadata": {},
   "outputs": [
    {
     "name": "stdout",
     "output_type": "stream",
     "text": [
      "Kopyalandı: tcga_gbm/TCGA-06-0171/2.25.29121459395727809251957060602217939630/SM_1.3.6.1.4.1.5962.99.1.1151519334.1969355408.1637534091878.2.0/336125ad-cfd6-401e-a957-39b8a09d2a25.dcm -> Tcga_gbm_ready/336125ad-cfd6-401e-a957-39b8a09d2a25.dcm\n",
      "Kopyalandı: tcga_gbm/TCGA-06-0171/2.25.29121459395727809251957060602217939630/SM_1.3.6.1.4.1.5962.99.1.1153784812.944670400.1637536357356.2.0/bdf730c7-1eac-44a4-9dc3-1b3fd563fdd4.dcm -> Tcga_gbm_ready/bdf730c7-1eac-44a4-9dc3-1b3fd563fdd4.dcm\n",
      "Kopyalandı: tcga_gbm/TCGA-06-0171/2.25.29121459395727809251957060602217939630/SM_1.3.6.1.4.1.5962.99.1.1154012000.1303850703.1637536584544.2.0/b687574c-f30e-45d7-88e5-840968785182.dcm -> Tcga_gbm_ready/b687574c-f30e-45d7-88e5-840968785182.dcm\n",
      "Kopyalandı: tcga_gbm/TCGA-06-0171/2.25.29121459395727809251957060602217939630/SM_1.3.6.1.4.1.5962.99.1.1159792629.191824854.1637542365173.2.0/7e653279-5017-451d-a263-e3a7fc4fcef8.dcm -> Tcga_gbm_ready/7e653279-5017-451d-a263-e3a7fc4fcef8.dcm\n",
      "Kopyalandı: tcga_gbm/TCGA-06-0171/2.25.29121459395727809251957060602217939630/SM_1.3.6.1.4.1.5962.99.1.1154879860.1766293532.1637537452404.2.0/2b7fe6ec-1663-49fa-978c-394033458797.dcm -> Tcga_gbm_ready/2b7fe6ec-1663-49fa-978c-394033458797.dcm\n",
      "Kopyalandı: tcga_gbm/TCGA-06-0171/2.25.29121459395727809251957060602217939630/SM_1.3.6.1.4.1.5962.99.1.1156608365.1342129820.1637539180909.2.0/e69abaf5-b2db-4725-a4c7-6cabb6be53c3.dcm -> Tcga_gbm_ready/e69abaf5-b2db-4725-a4c7-6cabb6be53c3.dcm\n",
      "Kopyalandı: tcga_gbm/TCGA-06-0171/2.25.29121459395727809251957060602217939630/SM_1.3.6.1.4.1.5962.99.1.1144976981.501919220.1637527549525.2.0/7bcf2546-9f1b-416c-a376-352342eebaef.dcm -> Tcga_gbm_ready/7bcf2546-9f1b-416c-a376-352342eebaef.dcm\n",
      "Kopyalandı: tcga_gbm/TCGA-06-0133/2.25.162703144743224382408993900761793724084/SM_1.3.6.1.4.1.5962.99.1.1155874158.365207385.1637538446702.2.0/c25f7f34-1a2f-472c-bdbe-0d33ebd98a3e.dcm -> Tcga_gbm_ready/c25f7f34-1a2f-472c-bdbe-0d33ebd98a3e.dcm\n",
      "Kopyalandı: tcga_gbm/TCGA-06-0133/2.25.162703144743224382408993900761793724084/SM_1.3.6.1.4.1.5962.99.1.1144008797.1047219217.1637526581341.2.0/f4cb0fdc-df57-444c-a23d-c4e36dcca52a.dcm -> Tcga_gbm_ready/f4cb0fdc-df57-444c-a23d-c4e36dcca52a.dcm\n",
      "Kopyalandı: tcga_gbm/TCGA-06-0133/2.25.162703144743224382408993900761793724084/SM_1.3.6.1.4.1.5962.99.1.1156542048.2116357997.1637539114592.2.0/2af8c777-d483-40c1-a3d9-815f36c2cb4d.dcm -> Tcga_gbm_ready/2af8c777-d483-40c1-a3d9-815f36c2cb4d.dcm\n",
      "Kopyalandı: tcga_gbm/TCGA-12-0819/2.25.123766675525606848480455468944826495057/SM_1.3.6.1.4.1.5962.99.1.1156935314.1661465317.1637539507858.2.0/693eaf43-d416-4bd4-97bf-573ce9f4d792.dcm -> Tcga_gbm_ready/693eaf43-d416-4bd4-97bf-573ce9f4d792.dcm\n",
      "Kopyalandı: tcga_gbm/TCGA-12-0819/2.25.123766675525606848480455468944826495057/SM_1.3.6.1.4.1.5962.99.1.1133123284.299594066.1637515695828.2.0/477e87d1-a932-42f6-9ff5-f337d8c7aff2.dcm -> Tcga_gbm_ready/477e87d1-a932-42f6-9ff5-f337d8c7aff2.dcm\n",
      "Kopyalandı: tcga_gbm/TCGA-12-0819/2.25.123766675525606848480455468944826495057/SM_1.3.6.1.4.1.5962.99.1.1144580033.917509643.1637527152577.2.0/f0367c05-f697-4264-a149-8d3fa2fa9292.dcm -> Tcga_gbm_ready/f0367c05-f697-4264-a149-8d3fa2fa9292.dcm\n",
      "Kopyalandı: tcga_gbm/TCGA-12-0819/2.25.123766675525606848480455468944826495057/SM_1.3.6.1.4.1.5962.99.1.1154947995.103186811.1637537520539.2.0/3904e9c9-055e-45f9-8019-d28b470d82e8.dcm -> Tcga_gbm_ready/3904e9c9-055e-45f9-8019-d28b470d82e8.dcm\n",
      "Kopyalandı: tcga_gbm/TCGA-12-0819/2.25.123766675525606848480455468944826495057/SM_1.3.6.1.4.1.5962.99.1.1135787863.1618968359.1637518360407.2.0/7f108dd2-9e13-46bc-a79a-d82311d31fb7.dcm -> Tcga_gbm_ready/7f108dd2-9e13-46bc-a79a-d82311d31fb7.dcm\n",
      "Kopyalandı: tcga_gbm/TCGA-06-0140/2.25.62752292876866304004162070244722399819/SM_1.3.6.1.4.1.5962.99.1.1128675044.1891507028.1637511247588.2.0/9133aede-8ca9-4f02-be5c-5016fc7d7432.dcm -> Tcga_gbm_ready/9133aede-8ca9-4f02-be5c-5016fc7d7432.dcm\n",
      "Kopyalandı: tcga_gbm/TCGA-14-1034/2.25.39267730158431390106699970418441686575/SM_1.3.6.1.4.1.5962.99.1.1135880507.1344854706.1637518453051.2.0/1a725310-124e-494b-a7a2-e2c168eabcff.dcm -> Tcga_gbm_ready/1a725310-124e-494b-a7a2-e2c168eabcff.dcm\n",
      "Kopyalandı: tcga_gbm/TCGA-14-1034/2.25.39267730158431390106699970418441686575/SM_1.3.6.1.4.1.5962.99.1.1131652664.1438842132.1637514225208.2.0/41102a81-ae59-494f-bc38-2e3580485e15.dcm -> Tcga_gbm_ready/41102a81-ae59-494f-bc38-2e3580485e15.dcm\n",
      "Kopyalandı: tcga_gbm/TCGA-14-1034/2.25.39267730158431390106699970418441686575/SM_1.3.6.1.4.1.5962.99.1.1152420622.1741841963.1637534993166.2.0/bf066fcc-9259-4855-b3b4-a0d6e21344ad.dcm -> Tcga_gbm_ready/bf066fcc-9259-4855-b3b4-a0d6e21344ad.dcm\n",
      "Kopyalandı: tcga_gbm/TCGA-14-1034/2.25.39267730158431390106699970418441686575/SM_1.3.6.1.4.1.5962.99.1.1146715827.1789173815.1637529288371.2.0/fe4db320-ef19-4346-91a5-b6d3753ca4b5.dcm -> Tcga_gbm_ready/fe4db320-ef19-4346-91a5-b6d3753ca4b5.dcm\n",
      "Kopyalandı: tcga_gbm/TCGA-14-1034/2.25.39267730158431390106699970418441686575/SM_1.3.6.1.4.1.5962.99.1.1143748550.1545612572.1637526321094.2.0/fd1efebc-239f-4661-bb46-196befc40eff.dcm -> Tcga_gbm_ready/fd1efebc-239f-4661-bb46-196befc40eff.dcm\n",
      "Kopyalandı: tcga_gbm/TCGA-14-1034/2.25.39267730158431390106699970418441686575/SM_1.3.6.1.4.1.5962.99.1.1148549424.1523113955.1637531121968.2.0/8d994cde-f44e-45eb-a9c4-77f056a7e677.dcm -> Tcga_gbm_ready/8d994cde-f44e-45eb-a9c4-77f056a7e677.dcm\n",
      "Kopyalandı: tcga_gbm/TCGA-14-1034/2.25.39267730158431390106699970418441686575/SM_1.3.6.1.4.1.5962.99.1.1127114054.1123930838.1637509686598.2.0/9a346049-b622-4ea8-a992-b5bf80660da8.dcm -> Tcga_gbm_ready/9a346049-b622-4ea8-a992-b5bf80660da8.dcm\n"
     ]
    }
   ],
   "source": [
    "import os\n",
    "import shutil\n",
    "\n",
    "def find_largest_file(directory):\n",
    "    \"\"\"Verilen dizindeki en büyük dosyayı bulur.\"\"\"\n",
    "    largest_file = None\n",
    "    largest_size = 0\n",
    "    \n",
    "    for root, _, files in os.walk(directory):\n",
    "        for file in files:\n",
    "            file_path = os.path.join(root, file)\n",
    "            file_size = os.path.getsize(file_path)\n",
    "            if file_size > largest_size:\n",
    "                largest_size = file_size\n",
    "                largest_file = file_path\n",
    "    \n",
    "    return largest_file\n",
    "\n",
    "def copy_largest_files(base_path, destination_folder):\n",
    "    \"\"\"TCGA klasörlerinden başlayarak her SM klasörünün içindeki en büyük dosyayı bulup belirtilen klasöre kopyalar.\"\"\"\n",
    "    if not os.path.exists(destination_folder):\n",
    "        os.makedirs(destination_folder)\n",
    "    \n",
    "    for tcga_folder in os.listdir(base_path):\n",
    "        tcga_path = os.path.join(base_path, tcga_folder)\n",
    "        if os.path.isdir(tcga_path):\n",
    "            for root, dirs, _ in os.walk(tcga_path):\n",
    "                for dir_name in dirs:\n",
    "                    if dir_name.startswith(\"SM\"):\n",
    "                        sm_path = os.path.join(root, dir_name)\n",
    "                        if os.path.isdir(sm_path):\n",
    "                            largest_file = find_largest_file(sm_path)\n",
    "                            if largest_file:\n",
    "                                dest_path = os.path.join(destination_folder, os.path.basename(largest_file))\n",
    "                                shutil.copy2(largest_file, dest_path)\n",
    "                                print(f\"Kopyalandı: {largest_file} -> {dest_path}\")\n",
    "                            else:\n",
    "                                print(f\"Dosya bulunamadı: {sm_path}\")\n",
    "\n",
    "dosya_kaynak_yolu = \"tcga_gbm\"  # TCGA klasörlerinin olduğu ana dizin\n",
    "dosya_hedef_yolu = \"Tcga_gbm_ready\"  # Dosyaların içine kopyalanacağı dosya\n",
    "\n",
    "copy_largest_files(dosya_kaynak_yolu, dosya_hedef_yolu)\n"
   ]
  },
  {
   "cell_type": "code",
   "execution_count": null,
   "id": "9a34aefe-d4d2-434d-9f60-37d65396a7d8",
   "metadata": {},
   "outputs": [],
   "source": []
  }
 ],
 "metadata": {
  "kernelspec": {
   "display_name": "Python 3 (ipykernel)",
   "language": "python",
   "name": "python3"
  },
  "language_info": {
   "codemirror_mode": {
    "name": "ipython",
    "version": 3
   },
   "file_extension": ".py",
   "mimetype": "text/x-python",
   "name": "python",
   "nbconvert_exporter": "python",
   "pygments_lexer": "ipython3",
   "version": "3.12.8"
  }
 },
 "nbformat": 4,
 "nbformat_minor": 5
}
