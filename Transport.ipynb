{
 "cells": [
  {
   "cell_type": "code",
   "execution_count": 2,
   "id": "ec048884-597c-4e76-8531-b57c8097632b",
   "metadata": {},
   "outputs": [
    {
     "name": "stdout",
     "output_type": "stream",
     "text": [
      "Kopyalandı: tcga_lgg_astrocytoma/TCGA-DU-A5TY/2.25.338346551982507368517459495017802107137/SM_1.3.6.1.4.1.5962.99.1.1414886536.1527997987.1637797459080.2.0/a79eb3ed-08d6-4700-8b17-55943d45e89f.dcm -> Tcga_lgg_astro_ready/a79eb3ed-08d6-4700-8b17-55943d45e89f.dcm\n",
      "Kopyalandı: tcga_lgg_astrocytoma/TCGA-DU-A5TY/2.25.338346551982507368517459495017802107137/SM_1.3.6.1.4.1.5962.99.1.1470015258.1236065585.1637852587802.2.0/9c853bbf-815f-4f98-84fb-cc5d4a829add.dcm -> Tcga_lgg_astro_ready/9c853bbf-815f-4f98-84fb-cc5d4a829add.dcm\n",
      "Kopyalandı: tcga_lgg_astrocytoma/TCGA-VM-A8CF/2.25.139864757171217649141628818700026687293/SM_1.3.6.1.4.1.5962.99.1.1497528650.345235420.1637880101194.2.0/571c5b56-ffe8-4816-813b-4928887e64e1.dcm -> Tcga_lgg_astro_ready/571c5b56-ffe8-4816-813b-4928887e64e1.dcm\n",
      "Kopyalandı: tcga_lgg_astrocytoma/TCGA-VM-A8CF/2.25.139864757171217649141628818700026687293/SM_1.3.6.1.4.1.5962.99.1.1486043674.1924148294.1637868616218.2.0/a0c833ef-131e-46ae-b1e7-e852264cebcc.dcm -> Tcga_lgg_astro_ready/a0c833ef-131e-46ae-b1e7-e852264cebcc.dcm\n",
      "Kopyalandı: tcga_lgg_astrocytoma/TCGA-VM-A8CF/2.25.139864757171217649141628818700026687293/SM_1.3.6.1.4.1.5962.99.1.1446367990.186849931.1637828940534.2.0/bed0901c-853c-4403-a9da-4aa2e375756a.dcm -> Tcga_lgg_astro_ready/bed0901c-853c-4403-a9da-4aa2e375756a.dcm\n",
      "Kopyalandı: tcga_lgg_astrocytoma/TCGA-VM-A8CF/2.25.139864757171217649141628818700026687293/SM_1.3.6.1.4.1.5962.99.1.1423621130.62423804.1637806193674.2.0/4032e151-dfe5-4084-822e-1ab32a778a40.dcm -> Tcga_lgg_astro_ready/4032e151-dfe5-4084-822e-1ab32a778a40.dcm\n",
      "Kopyalandı: tcga_lgg_astrocytoma/TCGA-VM-A8CF/2.25.139864757171217649141628818700026687293/SM_1.3.6.1.4.1.5962.99.1.1458665376.2058047401.1637841237920.2.0/d7ad56a1-456a-46ee-9b2b-96fef5fb7912.dcm -> Tcga_lgg_astro_ready/d7ad56a1-456a-46ee-9b2b-96fef5fb7912.dcm\n",
      "Kopyalandı: tcga_lgg_astrocytoma/TCGA-VM-A8CF/2.25.139864757171217649141628818700026687293/SM_1.3.6.1.4.1.5962.99.1.1426946042.2103328376.1637809518586.2.0/264d9256-832f-4711-9c8c-c1bb50988afd.dcm -> Tcga_lgg_astro_ready/264d9256-832f-4711-9c8c-c1bb50988afd.dcm\n",
      "Kopyalandı: tcga_lgg_astrocytoma/TCGA-VM-A8CF/2.25.139864757171217649141628818700026687293/SM_1.3.6.1.4.1.5962.99.1.1478562509.1692047690.1637861135053.2.0/c14302de-f776-4da2-9e9b-d26730ee4fd8.dcm -> Tcga_lgg_astro_ready/c14302de-f776-4da2-9e9b-d26730ee4fd8.dcm\n",
      "Kopyalandı: tcga_lgg_astrocytoma/TCGA-VM-A8CF/2.25.139864757171217649141628818700026687293/SM_1.3.6.1.4.1.5962.99.1.1432628087.1096552979.1637815200631.2.0/9e322a6b-4a0c-445a-ad83-dd9915ff1b3a.dcm -> Tcga_lgg_astro_ready/9e322a6b-4a0c-445a-ad83-dd9915ff1b3a.dcm\n",
      "Kopyalandı: tcga_lgg_astrocytoma/TCGA-VM-A8CF/2.25.139864757171217649141628818700026687293/SM_1.3.6.1.4.1.5962.99.1.1487829645.1910279240.1637870402189.2.0/169728f8-402f-4905-8cd8-6b66932fb5d1.dcm -> Tcga_lgg_astro_ready/169728f8-402f-4905-8cd8-6b66932fb5d1.dcm\n",
      "Kopyalandı: tcga_lgg_astrocytoma/TCGA-VM-A8CF/2.25.139864757171217649141628818700026687293/SM_1.3.6.1.4.1.5962.99.1.1425457581.378770837.1637808030125.2.0/d7bed330-5ff9-4e68-a715-a1ec7d567aed.dcm -> Tcga_lgg_astro_ready/d7bed330-5ff9-4e68-a715-a1ec7d567aed.dcm\n",
      "Kopyalandı: tcga_lgg_astrocytoma/TCGA-S9-A7IZ/2.25.217711210628008507126007545063311483414/SM_1.3.6.1.4.1.5962.99.1.1484349837.2096893768.1637866922381.2.0/4a8a5420-823b-40c9-8a2f-6c3b25100425.dcm -> Tcga_lgg_astro_ready/4a8a5420-823b-40c9-8a2f-6c3b25100425.dcm\n",
      "Kopyalandı: tcga_lgg_astrocytoma/TCGA-S9-A7IZ/2.25.217711210628008507126007545063311483414/SM_1.3.6.1.4.1.5962.99.1.1506975260.561729595.1637889547804.2.0/ff25c671-4bfd-4109-9e72-a83f8f931205.dcm -> Tcga_lgg_astro_ready/ff25c671-4bfd-4109-9e72-a83f8f931205.dcm\n",
      "Kopyalandı: tcga_lgg_astrocytoma/TCGA-HT-7604/2.25.86034461764355101152076492499440326643/SM_1.3.6.1.4.1.5962.99.1.1412408355.1878213196.1637794980899.2.0/3b6ab721-686c-428e-b3e6-e32a344343ca.dcm -> Tcga_lgg_astro_ready/3b6ab721-686c-428e-b3e6-e32a344343ca.dcm\n",
      "Kopyalandı: tcga_lgg_astrocytoma/TCGA-HT-7604/2.25.86034461764355101152076492499440326643/SM_1.3.6.1.4.1.5962.99.1.1455148616.1259957666.1637837721160.2.0/008f3e5a-4e76-4cee-aa57-c5454f7942a9.dcm -> Tcga_lgg_astro_ready/008f3e5a-4e76-4cee-aa57-c5454f7942a9.dcm\n",
      "Kopyalandı: tcga_lgg_astrocytoma/TCGA-HT-7604/2.25.86034461764355101152076492499440326643/SM_1.3.6.1.4.1.5962.99.1.1500473973.1566711803.1637883046517.2.0/b0cb71ed-95cc-4d06-a2ed-1a138881eb3c.dcm -> Tcga_lgg_astro_ready/b0cb71ed-95cc-4d06-a2ed-1a138881eb3c.dcm\n",
      "Kopyalandı: tcga_lgg_astrocytoma/TCGA-TM-A7CF/2.25.29106868053795004305111913206257987987/SM_1.3.6.1.4.1.5962.99.1.1479639667.2004676633.1637862212211.2.0/273ff5b7-db50-4aa2-bafd-5dc299d1e3c8.dcm -> Tcga_lgg_astro_ready/273ff5b7-db50-4aa2-bafd-5dc299d1e3c8.dcm\n",
      "Kopyalandı: tcga_lgg_astrocytoma/TCGA-TM-A7CF/2.25.29106868053795004305111913206257987987/SM_1.3.6.1.4.1.5962.99.1.1433941887.1382094383.1637816514431.2.0/5bc1cf63-f38e-4cc0-9bda-6465f05fc7d7.dcm -> Tcga_lgg_astro_ready/5bc1cf63-f38e-4cc0-9bda-6465f05fc7d7.dcm\n",
      "Kopyalandı: tcga_lgg_astrocytoma/TCGA-TM-A7CF/2.25.29106868053795004305111913206257987987/SM_1.3.6.1.4.1.5962.99.1.1479705388.1219801411.1637862277932.2.0/1fe1a0ed-c832-4096-a7cc-72b61d4fb592.dcm -> Tcga_lgg_astro_ready/1fe1a0ed-c832-4096-a7cc-72b61d4fb592.dcm\n",
      "Kopyalandı: tcga_lgg_astrocytoma/TCGA-TM-A7CF/2.25.29106868053795004305111913206257987987/SM_1.3.6.1.4.1.5962.99.1.1446868025.1625707804.1637829440569.2.0/a779e3c2-6e66-4331-ac57-d07745a9af1a.dcm -> Tcga_lgg_astro_ready/a779e3c2-6e66-4331-ac57-d07745a9af1a.dcm\n",
      "Kopyalandı: tcga_lgg_astrocytoma/TCGA-TM-A7CF/2.25.29106868053795004305111913206257987987/SM_1.3.6.1.4.1.5962.99.1.1486935315.1308167131.1637869507859.2.0/ff049dc1-e990-4832-ab6e-411f71f93ada.dcm -> Tcga_lgg_astro_ready/ff049dc1-e990-4832-ab6e-411f71f93ada.dcm\n"
     ]
    }
   ],
   "source": [
    "import os\n",
    "import shutil\n",
    "\n",
    "def find_largest_file(directory):\n",
    "    \"\"\"Verilen dizindeki en büyük dosyayı bulur.\"\"\"\n",
    "    largest_file = None\n",
    "    largest_size = 0\n",
    "    \n",
    "    for root, _, files in os.walk(directory):\n",
    "        for file in files:\n",
    "            file_path = os.path.join(root, file)\n",
    "            file_size = os.path.getsize(file_path)\n",
    "            if file_size > largest_size:\n",
    "                largest_size = file_size\n",
    "                largest_file = file_path\n",
    "    \n",
    "    return largest_file\n",
    "\n",
    "def copy_largest_files(base_path, destination_folder):\n",
    "    \"\"\"TCGA klasörlerinden başlayarak her SM klasörünün içindeki en büyük dosyayı bulup belirtilen klasöre kopyalar.\"\"\"\n",
    "    if not os.path.exists(destination_folder):\n",
    "        os.makedirs(destination_folder)\n",
    "    \n",
    "    for tcga_folder in os.listdir(base_path):\n",
    "        tcga_path = os.path.join(base_path, tcga_folder)\n",
    "        if os.path.isdir(tcga_path):\n",
    "            for root, dirs, _ in os.walk(tcga_path):\n",
    "                for dir_name in dirs:\n",
    "                    if dir_name.startswith(\"SM\"):\n",
    "                        sm_path = os.path.join(root, dir_name)\n",
    "                        if os.path.isdir(sm_path):\n",
    "                            largest_file = find_largest_file(sm_path)\n",
    "                            if largest_file:\n",
    "                                dest_path = os.path.join(destination_folder, os.path.basename(largest_file))\n",
    "                                shutil.copy2(largest_file, dest_path)\n",
    "                                print(f\"Kopyalandı: {largest_file} -> {dest_path}\")\n",
    "                            else:\n",
    "                                print(f\"Dosya bulunamadı: {sm_path}\")\n",
    "\n",
    "dosya_kaynak_yolu = \"tcga_lgg_astrocytoma\"  # TCGA klasörlerinin olduğu ana dizin\n",
    "dosya_hedef_yolu = \"Tcga_lgg_astro_ready\"  # Dosyaların içine kopyalanacağı dosya\n",
    "\n",
    "copy_largest_files(dosya_kaynak_yolu, dosya_hedef_yolu)\n"
   ]
  },
  {
   "cell_type": "code",
   "execution_count": null,
   "id": "9a34aefe-d4d2-434d-9f60-37d65396a7d8",
   "metadata": {},
   "outputs": [],
   "source": []
  }
 ],
 "metadata": {
  "kernelspec": {
   "display_name": "Python 3 (ipykernel)",
   "language": "python",
   "name": "python3"
  },
  "language_info": {
   "codemirror_mode": {
    "name": "ipython",
    "version": 3
   },
   "file_extension": ".py",
   "mimetype": "text/x-python",
   "name": "python",
   "nbconvert_exporter": "python",
   "pygments_lexer": "ipython3",
   "version": "3.12.8"
  }
 },
 "nbformat": 4,
 "nbformat_minor": 5
}
