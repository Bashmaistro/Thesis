{
 "cells": [
  {
   "cell_type": "code",
   "execution_count": 29,
   "metadata": {},
   "outputs": [
    {
     "name": "stdout",
     "output_type": "stream",
     "text": [
      "195\n"
     ]
    }
   ],
   "source": [
    "import pandas as pd\n",
    "\n",
    "\n",
    "df = pd.read_csv(\"clinical.tsv\", sep=\"\\t\")\n",
    "\n",
    "Astrocytoma_filtered_df = df[df[\"primary_diagnosis\"].str.contains(\"Astrocytoma\", case=False, na=False)]\n",
    "\n",
    "\n",
    "unique_cases_df = Astrocytoma_filtered_df.drop_duplicates(subset=[\"case_id\"], keep=\"first\")\n",
    "\n",
    "\n",
    "case_id_list = unique_cases_df[\"case_submitter_id\"].tolist()\n",
    "\n",
    "print(len(case_id_list))"
   ]
  },
  {
   "cell_type": "code",
   "execution_count": 10,
   "metadata": {},
   "outputs": [
    {
     "name": "stdout",
     "output_type": "stream",
     "text": [
      "0                 Mixed glioma\n",
      "1                 Mixed glioma\n",
      "2                 Mixed glioma\n",
      "3                 Mixed glioma\n",
      "4                 Mixed glioma\n",
      "                 ...          \n",
      "3716          Astrocytoma, NOS\n",
      "3717          Astrocytoma, NOS\n",
      "3718    Oligodendroglioma, NOS\n",
      "3719    Oligodendroglioma, NOS\n",
      "3720    Oligodendroglioma, NOS\n",
      "Name: primary_diagnosis, Length: 3721, dtype: object\n"
     ]
    }
   ],
   "source": [
    "\n"
   ]
  },
  {
   "cell_type": "code",
   "execution_count": 19,
   "metadata": {},
   "outputs": [
    {
     "name": "stdout",
     "output_type": "stream",
     "text": [
      "                                   case_id case_submitter_id project_id  \\\n",
      "21    0073a136-d5f4-4fd6-88f9-711768f2abc6      TCGA-VM-A8CF   TCGA-LGG   \n",
      "22    0073a136-d5f4-4fd6-88f9-711768f2abc6      TCGA-VM-A8CF   TCGA-LGG   \n",
      "23    0073a136-d5f4-4fd6-88f9-711768f2abc6      TCGA-VM-A8CF   TCGA-LGG   \n",
      "24    0073a136-d5f4-4fd6-88f9-711768f2abc6      TCGA-VM-A8CF   TCGA-LGG   \n",
      "25    0073a136-d5f4-4fd6-88f9-711768f2abc6      TCGA-VM-A8CF   TCGA-LGG   \n",
      "...                                    ...               ...        ...   \n",
      "3713  ffcec8e5-9fd3-4b42-a7cb-74761f713cf4      TCGA-HT-7606   TCGA-LGG   \n",
      "3714  ffcec8e5-9fd3-4b42-a7cb-74761f713cf4      TCGA-HT-7606   TCGA-LGG   \n",
      "3715  ffcec8e5-9fd3-4b42-a7cb-74761f713cf4      TCGA-HT-7606   TCGA-LGG   \n",
      "3716  ffcec8e5-9fd3-4b42-a7cb-74761f713cf4      TCGA-HT-7606   TCGA-LGG   \n",
      "3717  ffcec8e5-9fd3-4b42-a7cb-74761f713cf4      TCGA-HT-7606   TCGA-LGG   \n",
      "\n",
      "     age_at_index  age_is_obfuscated cause_of_death cause_of_death_source  \\\n",
      "21             44              False            '--                   '--   \n",
      "22             44              False            '--                   '--   \n",
      "23             44              False            '--                   '--   \n",
      "24             44              False            '--                   '--   \n",
      "25             44              False            '--                   '--   \n",
      "...           ...                ...            ...                   ...   \n",
      "3713           30              False            '--                   '--   \n",
      "3714           30              False            '--                   '--   \n",
      "3715           30              False            '--                   '--   \n",
      "3716           30              False            '--                   '--   \n",
      "3717           30              False            '--                   '--   \n",
      "\n",
      "     country_of_birth country_of_residence_at_enrollment days_to_birth  ...  \\\n",
      "21                '--                      United States        -16334  ...   \n",
      "22                '--                      United States        -16334  ...   \n",
      "23                '--                      United States        -16334  ...   \n",
      "24                '--                      United States        -16334  ...   \n",
      "25                '--                      United States        -16334  ...   \n",
      "...               ...                                ...           ...  ...   \n",
      "3713              '--                      United States        -11233  ...   \n",
      "3714              '--                      United States        -11233  ...   \n",
      "3715              '--                      United States        -11233  ...   \n",
      "3716              '--                      United States        -11233  ...   \n",
      "3717              '--                      United States        -11233  ...   \n",
      "\n",
      "     treatment_dose_units treatment_duration treatment_effect  \\\n",
      "21                    '--                '--              '--   \n",
      "22                    '--                '--              '--   \n",
      "23                    cGy                '--              '--   \n",
      "24                    cGy                '--              '--   \n",
      "25                    '--                '--              '--   \n",
      "...                   ...                ...              ...   \n",
      "3713                   mg                '--              '--   \n",
      "3714                  cGy                '--              '--   \n",
      "3715                  '--                '--              '--   \n",
      "3716                   mg                '--              '--   \n",
      "3717                   mg                '--              '--   \n",
      "\n",
      "     treatment_effect_indicator treatment_frequency treatment_intent_type  \\\n",
      "21                          '--                 '--                   '--   \n",
      "22                          '--                 '--                   '--   \n",
      "23                          '--                 '--                   '--   \n",
      "24                          '--                 '--                   '--   \n",
      "25                          '--                 '--                   '--   \n",
      "...                         ...                 ...                   ...   \n",
      "3713                        '--                 '--              Adjuvant   \n",
      "3714                        '--                 '--              Adjuvant   \n",
      "3715                        '--                 '--                   '--   \n",
      "3716                        '--                 '--              Adjuvant   \n",
      "3717                        '--                 '--              Adjuvant   \n",
      "\n",
      "     treatment_or_therapy treatment_outcome treatment_outcome_duration  \\\n",
      "21                     no               '--                        '--   \n",
      "22                    yes    Stable Disease                        '--   \n",
      "23                    yes    Stable Disease                        '--   \n",
      "24                    yes    Stable Disease                        '--   \n",
      "25                     no               '--                        '--   \n",
      "...                   ...               ...                        ...   \n",
      "3713                  yes               '--                        '--   \n",
      "3714                  yes               '--                        '--   \n",
      "3715                   no               '--                        '--   \n",
      "3716                  yes               '--                        '--   \n",
      "3717                  yes               '--                        '--   \n",
      "\n",
      "                treatment_type  \n",
      "21      Radiation Therapy, NOS  \n",
      "22                Chemotherapy  \n",
      "23    Radiation, External Beam  \n",
      "24    Radiation, External Beam  \n",
      "25             Steroid Therapy  \n",
      "...                        ...  \n",
      "3713              Chemotherapy  \n",
      "3714  Radiation, External Beam  \n",
      "3715    Radiation Therapy, NOS  \n",
      "3716              Chemotherapy  \n",
      "3717              Chemotherapy  \n",
      "\n",
      "[1214 rows x 197 columns]\n"
     ]
    }
   ],
   "source": []
  },
  {
   "cell_type": "code",
   "execution_count": 26,
   "metadata": {},
   "outputs": [
    {
     "name": "stdout",
     "output_type": "stream",
     "text": [
      "21      TCGA-VM-A8CF\n",
      "42      TCGA-DU-A5TY\n",
      "58      TCGA-HT-7604\n",
      "63      TCGA-S9-A7IZ\n",
      "97      TCGA-TM-A7CF\n",
      "            ...     \n",
      "3669    TCGA-DU-6392\n",
      "3680    TCGA-TM-A84Q\n",
      "3690    TCGA-HT-A74H\n",
      "3700    TCGA-HT-7860\n",
      "3713    TCGA-HT-7606\n",
      "Name: case_submitter_id, Length: 195, dtype: object\n",
      "['TCGA-VM-A8CF', 'TCGA-DU-A5TY', 'TCGA-HT-7604', 'TCGA-S9-A7IZ', 'TCGA-TM-A7CF', 'TCGA-HT-A5RB', 'TCGA-P5-A5F1', 'TCGA-HW-A5KL', 'TCGA-DB-A75M', 'TCGA-WY-A85A', 'TCGA-DB-A75O', 'TCGA-HW-A5KM', 'TCGA-DU-A7TI', 'TCGA-RY-A83Z', 'TCGA-DU-7292', 'TCGA-DU-6402', 'TCGA-P5-A5EU', 'TCGA-P5-A737', 'TCGA-DB-A4XD', 'TCGA-DU-A5TU', 'TCGA-RY-A843', 'TCGA-P5-A5EY', 'TCGA-DU-7006', 'TCGA-CS-4942', 'TCGA-HT-7607', 'TCGA-HT-7476', 'TCGA-VV-A86M', 'TCGA-TM-A7CA', 'TCGA-DU-7298', 'TCGA-P5-A72X', 'TCGA-CS-4938', 'TCGA-DB-A4XC', 'TCGA-HW-8321', 'TCGA-S9-A6U9', 'TCGA-HT-7477', 'TCGA-E1-A7Z3', 'TCGA-DH-A7UV', 'TCGA-TM-A84F', 'TCGA-P5-A781', 'TCGA-HT-7686', 'TCGA-CS-6188', 'TCGA-HT-7855', 'TCGA-DB-A4XF', 'TCGA-S9-A6TS', 'TCGA-WH-A86K', 'TCGA-E1-A7YM', 'TCGA-S9-A7QX', 'TCGA-CS-6290', 'TCGA-E1-5303', 'TCGA-E1-A7YD', 'TCGA-VM-A8CH', 'TCGA-HT-7854', 'TCGA-DU-A5TW', 'TCGA-HT-7478', 'TCGA-HT-7857', 'TCGA-VW-A8FI', 'TCGA-VM-A8C9', 'TCGA-E1-A7YI', 'TCGA-S9-A7R4', 'TCGA-HT-8011', 'TCGA-P5-A72W', 'TCGA-HT-A5RA', 'TCGA-DU-A7TC', 'TCGA-DH-5142', 'TCGA-HT-8104', 'TCGA-QH-A6XC', 'TCGA-S9-A6U5', 'TCGA-HT-7680', 'TCGA-CS-4944', 'TCGA-DU-A5TP', 'TCGA-S9-A6TU', 'TCGA-FG-5963', 'TCGA-E1-5304', 'TCGA-HT-7691', 'TCGA-HT-A4DS', 'TCGA-P5-A5EW', 'TCGA-QH-A6CS', 'TCGA-TM-A84I', 'TCGA-HT-A74O', 'TCGA-F6-A8O4', 'TCGA-FG-A60L', 'TCGA-S9-A7QW', 'TCGA-KT-A7W1', 'TCGA-S9-A7R8', 'TCGA-FG-A87Q', 'TCGA-HT-A5R7', 'TCGA-HT-8015', 'TCGA-DU-7299', 'TCGA-P5-A5EZ', 'TCGA-DU-7010', 'TCGA-E1-5302', 'TCGA-TM-A84C', 'TCGA-HT-A5RC', 'TCGA-HT-7884', 'TCGA-FG-A87N', 'TCGA-HW-A5KK', 'TCGA-E1-A7Z6', 'TCGA-CS-6666', 'TCGA-HT-7485', 'TCGA-FG-6689', 'TCGA-DU-7007', 'TCGA-S9-A7R2', 'TCGA-S9-A6U6', 'TCGA-DB-A75P', 'TCGA-DU-6405', 'TCGA-DU-5847', 'TCGA-CS-4943', 'TCGA-E1-A7YL', 'TCGA-E1-A7Z4', 'TCGA-DH-A7UU', 'TCGA-CS-5394', 'TCGA-DB-A64X', 'TCGA-E1-A7YH', 'TCGA-E1-5305', 'TCGA-S9-A6WG', 'TCGA-S9-A6WO', 'TCGA-S9-A6U0', 'TCGA-P5-A735', 'TCGA-S9-A6WN', 'TCGA-HT-A618', 'TCGA-DU-A6S7', 'TCGA-S9-A6U1', 'TCGA-S9-A7R7', 'TCGA-E1-5307', 'TCGA-S9-A7IX', 'TCGA-HT-7479', 'TCGA-P5-A736', 'TCGA-HT-8110', 'TCGA-FG-A4MX', 'TCGA-CS-6667', 'TCGA-DB-5273', 'TCGA-FG-A6J3', 'TCGA-S9-A6U8', 'TCGA-S9-A6TZ', 'TCGA-DH-A7UT', 'TCGA-FG-7636', 'TCGA-VM-A8CD', 'TCGA-HT-7858', 'TCGA-S9-A7R3', 'TCGA-DU-8158', 'TCGA-DU-5854', 'TCGA-DB-A75L', 'TCGA-DU-A7TJ', 'TCGA-HT-8106', 'TCGA-E1-A7YK', 'TCGA-HW-8319', 'TCGA-E1-A7YJ', 'TCGA-E1-A7YN', 'TCGA-CS-5397', 'TCGA-CS-6665', 'TCGA-HW-7490', 'TCGA-S9-A89V', 'TCGA-DU-7012', 'TCGA-DU-A76O', 'TCGA-P5-A5F2', 'TCGA-WY-A858', 'TCGA-WY-A85B', 'TCGA-DH-A66B', 'TCGA-S9-A89Z', 'TCGA-QH-A6CX', 'TCGA-HT-A61B', 'TCGA-DB-5277', 'TCGA-TM-A7C3', 'TCGA-HT-A616', 'TCGA-P5-A5EV', 'TCGA-DU-7013', 'TCGA-S9-A6WL', 'TCGA-P5-A733', 'TCGA-FG-6688', 'TCGA-HT-8563', 'TCGA-WY-A859', 'TCGA-HW-7493', 'TCGA-DU-7290', 'TCGA-HW-8320', 'TCGA-FG-6691', 'TCGA-P5-A780', 'TCGA-S9-A6UA', 'TCGA-HT-7601', 'TCGA-CS-5393', 'TCGA-TM-A84B', 'TCGA-DH-A66D', 'TCGA-TM-A7C4', 'TCGA-HT-8564', 'TCGA-WY-A85C', 'TCGA-S9-A7IS', 'TCGA-S9-A6WM', 'TCGA-E1-A7YE', 'TCGA-FG-8185', 'TCGA-DB-A4XB', 'TCGA-CS-4941', 'TCGA-DU-6392', 'TCGA-TM-A84Q', 'TCGA-HT-A74H', 'TCGA-HT-7860', 'TCGA-HT-7606']\n"
     ]
    }
   ],
   "source": [
    "\n",
    "\n",
    "unique_cases_df = Astrocytoma_filtered_df.drop_duplicates(subset=[\"case_id\"], keep=\"first\")\n",
    "\n",
    "\n",
    "print(unique_cases_df[\"case_submitter_id\"])\n",
    "\n",
    "case_id_list = unique_cases_df[\"case_submitter_id\"].tolist()\n",
    "\n",
    "print(case_id_list)"
   ]
  }
 ],
 "metadata": {
  "kernelspec": {
   "display_name": "thesis",
   "language": "python",
   "name": "python3"
  },
  "language_info": {
   "codemirror_mode": {
    "name": "ipython",
    "version": 3
   },
   "file_extension": ".py",
   "mimetype": "text/x-python",
   "name": "python",
   "nbconvert_exporter": "python",
   "pygments_lexer": "ipython3",
   "version": "3.12.8"
  }
 },
 "nbformat": 4,
 "nbformat_minor": 2
}
