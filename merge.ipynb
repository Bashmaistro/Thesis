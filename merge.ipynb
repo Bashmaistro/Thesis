{
 "cells": [
  {
   "cell_type": "code",
   "execution_count": 42,
   "id": "60b71b53",
   "metadata": {},
   "outputs": [],
   "source": [
    "import pandas as pd"
   ]
  },
  {
   "cell_type": "code",
   "execution_count": 43,
   "id": "aa1925f9",
   "metadata": {},
   "outputs": [],
   "source": [
    "df = pd.read_csv('dataset/meta.csv')\n",
    "df_to_merged = pd.read_csv('dataset/upenn.csv')"
   ]
  },
  {
   "cell_type": "code",
   "execution_count": 44,
   "id": "bed47cdb",
   "metadata": {},
   "outputs": [
    {
     "name": "stdout",
     "output_type": "stream",
     "text": [
      "             id   death   age                 gt grade     sex mortality  \\\n",
      "0     C3N-01199     1.0  49.9  Oligodendroglioma    G2    male      Dead   \n",
      "1  TCGA-CS-4938  9999.0  31.0        Astrocytoma    G2  female     Alive   \n",
      "2  TCGA-CS-4944  9999.0  50.0        Astrocytoma    G2    male     Alive   \n",
      "3  TCGA-CS-5390  9999.0  47.0  Oligodendroglioma    G2  female      Dead   \n",
      "4  TCGA-CS-6667  9999.0  39.0        Astrocytoma    G2  female     Alive   \n",
      "\n",
      "                  treatment  \n",
      "0                       NaN  \n",
      "1    Radiation Therapy, NOS  \n",
      "2  Radiation, External Beam  \n",
      "3  Radiation, External Beam  \n",
      "4           Steroid Therapy  \n",
      "                   ID Gender  Age_at_scan_years  \\\n",
      "0  UPENN-GBM-00001_11      F              52.16   \n",
      "1  UPENN-GBM-00002_11      F              61.30   \n",
      "2  UPENN-GBM-00003_11      M              42.82   \n",
      "3  UPENN-GBM-00004_11      M              33.43   \n",
      "4  UPENN-GBM-00005_11      M              53.33   \n",
      "\n",
      "  Survival_from_surgery_days_UPDATED Survival_Status Survival_Censor  \\\n",
      "0                                960        Deceased   Not Available   \n",
      "1                                291        Deceased   Not Available   \n",
      "2                               2838        Deceased   Not Available   \n",
      "3                                623        Deceased   Not Available   \n",
      "4                               1143        Deceased   Not Available   \n",
      "\n",
      "       IDH1           MGMT            KPS GTR_over90percent  \\\n",
      "0  Wildtype  Not Available  Not Available                 Y   \n",
      "1  Wildtype  Not Available  Not Available                 Y   \n",
      "2  Wildtype  Not Available  Not Available                 Y   \n",
      "3   NOS/NEC  Not Available  Not Available                 Y   \n",
      "4  Wildtype  Not Available  Not Available                 Y   \n",
      "\n",
      "  Time_since_baseline_preop  PsP_TP_score  \n",
      "0                         0           NaN  \n",
      "1                         0           NaN  \n",
      "2                         0           NaN  \n",
      "3                         0           NaN  \n",
      "4                         0           NaN  \n"
     ]
    }
   ],
   "source": [
    "print(df.head())\n",
    "print(df_to_merged.head())"
   ]
  },
  {
   "cell_type": "code",
   "execution_count": 45,
   "id": "5eb7d3fa",
   "metadata": {},
   "outputs": [],
   "source": [
    "df_to_merged = df_to_merged.rename(columns={\n",
    "    'ID': 'id',\n",
    "    'Age_at_scan_years': 'age',\n",
    "    'Gender': 'sex',\n",
    "    'Survival_from_surgery_days_UPDATED': 'death',\n",
    "    \"Survival_Status\": \"mortality\",\n",
    "})[['id', 'age', 'sex', 'death', 'mortality']]\n",
    "df_to_merged['id'] = df_to_merged['id'].str.rsplit('_', n=1).str[0]\n",
    "df_to_merged = df_to_merged.drop_duplicates(subset='id', keep='last')\n"
   ]
  },
  {
   "cell_type": "code",
   "execution_count": 46,
   "id": "07e081d2",
   "metadata": {},
   "outputs": [
    {
     "name": "stdout",
     "output_type": "stream",
     "text": [
      "                id    age sex death mortality\n",
      "0  UPENN-GBM-00001  52.16   F   960  Deceased\n",
      "1  UPENN-GBM-00002  61.30   F   291  Deceased\n",
      "2  UPENN-GBM-00003  42.82   M  2838  Deceased\n",
      "3  UPENN-GBM-00004  33.43   M   623  Deceased\n",
      "4  UPENN-GBM-00005  53.33   M  1143  Deceased\n",
      "630\n"
     ]
    }
   ],
   "source": [
    "print(df_to_merged.head())\n",
    "print(len(df_to_merged))"
   ]
  },
  {
   "cell_type": "code",
   "execution_count": 47,
   "id": "a11ad294",
   "metadata": {},
   "outputs": [],
   "source": [
    "# Step 1: Normalize mortality values\n",
    "df_to_merged['mortality'] = df_to_merged['mortality'].apply(\n",
    "    lambda x: 'Dead' if str(x).strip().lower() == 'deceased' else 'Alive'\n",
    ")\n",
    "\n",
    "# Step 2: Set death to 9999 where mortality is 'Alive'\n",
    "df_to_merged.loc[df_to_merged['mortality'] == 'Alive', 'death'] = 9999\n",
    "\n",
    "df_to_merged['gt'] = 'Glioblastoma'\n",
    "df_to_merged['grade'] = 'G4'\n"
   ]
  },
  {
   "cell_type": "code",
   "execution_count": 48,
   "id": "9e4834d6",
   "metadata": {},
   "outputs": [
    {
     "name": "stdout",
     "output_type": "stream",
     "text": [
      "                id    age sex death mortality            gt grade\n",
      "0  UPENN-GBM-00001  52.16   F   960      Dead  Glioblastoma    G4\n",
      "1  UPENN-GBM-00002  61.30   F   291      Dead  Glioblastoma    G4\n",
      "2  UPENN-GBM-00003  42.82   M  2838      Dead  Glioblastoma    G4\n",
      "3  UPENN-GBM-00004  33.43   M   623      Dead  Glioblastoma    G4\n",
      "4  UPENN-GBM-00005  53.33   M  1143      Dead  Glioblastoma    G4\n",
      "630\n"
     ]
    }
   ],
   "source": [
    "print(df_to_merged.head())\n",
    "print(len(df_to_merged))"
   ]
  },
  {
   "cell_type": "code",
   "execution_count": 49,
   "id": "72c85579",
   "metadata": {},
   "outputs": [
    {
     "name": "stdout",
     "output_type": "stream",
     "text": [
      "Missing values in 'age': id           0\n",
      "age          0\n",
      "sex          0\n",
      "death        0\n",
      "mortality    0\n",
      "gt           0\n",
      "grade        0\n",
      "dtype: int64\n",
      "Missing values in 'sex': id           0\n",
      "age          0\n",
      "sex          0\n",
      "death        0\n",
      "mortality    0\n",
      "gt           0\n",
      "grade        0\n",
      "dtype: int64\n"
     ]
    }
   ],
   "source": [
    "missing_age = df_to_merged.isna().sum()\n",
    "missing_sex = df_to_merged.isna().sum()\n",
    "\n",
    "print(f\"Missing values in 'age': {missing_age}\")\n",
    "print(f\"Missing values in 'sex': {missing_sex}\")\n"
   ]
  },
  {
   "cell_type": "code",
   "execution_count": 50,
   "id": "67b3528a",
   "metadata": {},
   "outputs": [
    {
     "name": "stdout",
     "output_type": "stream",
     "text": [
      "1773\n",
      "             id   death   age                 gt grade     sex mortality  \\\n",
      "0     C3N-01199     1.0  49.9  Oligodendroglioma    G2    male      Dead   \n",
      "1  TCGA-CS-4938  9999.0  31.0        Astrocytoma    G2  female     Alive   \n",
      "2  TCGA-CS-4944  9999.0  50.0        Astrocytoma    G2    male     Alive   \n",
      "3  TCGA-CS-5390  9999.0  47.0  Oligodendroglioma    G2  female      Dead   \n",
      "4  TCGA-CS-6667  9999.0  39.0        Astrocytoma    G2  female     Alive   \n",
      "\n",
      "                  treatment  \n",
      "0                       NaN  \n",
      "1    Radiation Therapy, NOS  \n",
      "2  Radiation, External Beam  \n",
      "3  Radiation, External Beam  \n",
      "4           Steroid Therapy  \n"
     ]
    }
   ],
   "source": [
    "# Select columns from df_to_merged except 'id' (which is key)\n",
    "merged_df = pd.concat([df, df_to_merged], ignore_index=True)\n",
    "\n",
    "\n",
    "print(len(merged_df))\n",
    "print(merged_df.head())\n",
    "merged_df.to_csv('./dataset/meta2.csv')\n",
    "\n"
   ]
  }
 ],
 "metadata": {
  "kernelspec": {
   "display_name": "mri",
   "language": "python",
   "name": "python3"
  },
  "language_info": {
   "codemirror_mode": {
    "name": "ipython",
    "version": 3
   },
   "file_extension": ".py",
   "mimetype": "text/x-python",
   "name": "python",
   "nbconvert_exporter": "python",
   "pygments_lexer": "ipython3",
   "version": "3.11.11"
  }
 },
 "nbformat": 4,
 "nbformat_minor": 5
}
