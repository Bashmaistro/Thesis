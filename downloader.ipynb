{
 "cells": [
  {
   "cell_type": "code",
   "execution_count": 1,
   "id": "3fb54066-0713-48b7-a8e0-1dccdcdb5333",
   "metadata": {},
   "outputs": [
    {
     "name": "stdout",
     "output_type": "stream",
     "text": [
      "Running: idc download TCGA-12-0819\n"
     ]
    },
    {
     "name": "stderr",
     "output_type": "stream",
     "text": [
      "2025-02-26 19:21:19,431 - Downloading from IDC v20 index\n",
      "2025-02-26 19:21:19,457 - Identified matching PatientID: ['TCGA-12-0819']\n",
      "2025-02-26 19:21:19,473 - Total free space on disk: 141.516775424 GB\n",
      "2025-02-26 19:21:19,535 - Not using s5cmd sync as the destination folder is empty or sync or progress bar is not requested\n",
      "2025-02-26 19:21:19,536 - Initial size of the directory: 278.67 MB\n",
      "2025-02-26 19:21:19,537 - Approximate size of the files that need to be downloaded: 1.89 GB\n",
      "Downloading data:  85%|████████▌ | 1.61G/1.89G [04:13<00:43, 6.34MB/s]\n",
      "2025-02-26 19:25:33,284 - Successfully downloaded files to /home/emirhan/Desktop/deneme\n"
     ]
    },
    {
     "name": "stdout",
     "output_type": "stream",
     "text": [
      "Source directory not found for TCGA-12-0819: /home/emirhan/tcga_lgg/TCGA-12-0819\n",
      "Running: idc download TCGA-VM-A8CF\n"
     ]
    },
    {
     "name": "stderr",
     "output_type": "stream",
     "text": [
      "2025-02-26 19:25:37,133 - Downloading from IDC v20 index\n",
      "2025-02-26 19:25:37,159 - Identified matching PatientID: ['TCGA-VM-A8CF']\n",
      "2025-02-26 19:25:37,173 - Total free space on disk: 141.426089984 GB\n",
      "2025-02-26 19:25:37,234 - Not using s5cmd sync as the destination folder is empty or sync or progress bar is not requested\n",
      "2025-02-26 19:25:37,236 - Initial size of the directory: 137.17 MB\n",
      "2025-02-26 19:25:37,236 - Approximate size of the files that need to be downloaded: 10.21 GB\n",
      "Downloading data:  99%|█████████▊| 10.1G/10.2G [19:01<00:15, 8.82MB/s]\n",
      "2025-02-26 19:44:38,539 - Successfully downloaded files to /home/emirhan/Desktop/deneme\n"
     ]
    },
    {
     "name": "stdout",
     "output_type": "stream",
     "text": [
      "Source directory not found for TCGA-VM-A8CF: /home/emirhan/tcga_lgg/TCGA-VM-A8CF\n",
      "Running: idc download TCGA-DU-A5TY\n"
     ]
    },
    {
     "name": "stderr",
     "output_type": "stream",
     "text": [
      "2025-02-26 19:44:42,745 - Downloading from IDC v20 index\n",
      "2025-02-26 19:44:42,771 - Identified matching PatientID: ['TCGA-DU-A5TY']\n",
      "2025-02-26 19:44:42,787 - Total free space on disk: 131.500642304 GB\n",
      "2025-02-26 19:44:42,852 - Not using s5cmd sync as the destination folder is empty or sync or progress bar is not requested\n",
      "2025-02-26 19:44:42,853 - Initial size of the directory: 0 bytes\n",
      "2025-02-26 19:44:42,853 - Approximate size of the files that need to be downloaded: 332.61 MB\n",
      "Downloading data: 100%|██████████| 333M/333M [01:28<00:00, 3.77MB/s] \n",
      "2025-02-26 19:46:11,043 - Successfully downloaded files to /home/emirhan/Desktop/deneme\n"
     ]
    },
    {
     "name": "stdout",
     "output_type": "stream",
     "text": [
      "Source directory not found for TCGA-DU-A5TY: /home/emirhan/tcga_lgg/TCGA-DU-A5TY\n",
      "Running: idc download TCGA-HT-7604\n"
     ]
    },
    {
     "name": "stderr",
     "output_type": "stream",
     "text": [
      "2025-02-26 19:46:15,621 - Downloading from IDC v20 index\n",
      "2025-02-26 19:46:15,651 - Identified matching PatientID: ['TCGA-HT-7604']\n",
      "2025-02-26 19:46:15,668 - Total free space on disk: 131.163189248 GB\n",
      "2025-02-26 19:46:15,753 - Not using s5cmd sync as the destination folder is empty or sync or progress bar is not requested\n",
      "2025-02-26 19:46:15,754 - Initial size of the directory: 0 bytes\n",
      "2025-02-26 19:46:15,754 - Approximate size of the files that need to be downloaded: 966.7 MB\n",
      "Downloading data: 100%|█████████▉| 967M/967M [03:16<00:00, 4.92MB/s] \n",
      "2025-02-26 19:49:32,190 - Successfully downloaded files to /home/emirhan/Desktop/deneme\n"
     ]
    },
    {
     "name": "stdout",
     "output_type": "stream",
     "text": [
      "Source directory not found for TCGA-HT-7604: /home/emirhan/tcga_lgg/TCGA-HT-7604\n",
      "Running: idc download TCGA-S9-A7IZ\n"
     ]
    },
    {
     "name": "stderr",
     "output_type": "stream",
     "text": [
      "2025-02-26 19:49:36,675 - Downloading from IDC v20 index\n",
      "2025-02-26 19:49:36,706 - Identified matching PatientID: ['TCGA-S9-A7IZ']\n",
      "2025-02-26 19:49:36,724 - Total free space on disk: 130.195165184 GB\n",
      "2025-02-26 19:49:36,810 - Not using s5cmd sync as the destination folder is empty or sync or progress bar is not requested\n",
      "2025-02-26 19:49:36,811 - Initial size of the directory: 0 bytes\n",
      "2025-02-26 19:49:36,811 - Approximate size of the files that need to be downloaded: 1.58 GB\n",
      "Downloading data: 100%|█████████▉| 1.58G/1.58G [05:52<00:00, 4.49MB/s]\n",
      "2025-02-26 19:55:29,027 - Successfully downloaded files to /home/emirhan/Desktop/deneme\n"
     ]
    },
    {
     "name": "stdout",
     "output_type": "stream",
     "text": [
      "Source directory not found for TCGA-S9-A7IZ: /home/emirhan/tcga_lgg/TCGA-S9-A7IZ\n",
      "Running: idc download TCGA-TM-A7CF\n"
     ]
    },
    {
     "name": "stderr",
     "output_type": "stream",
     "text": [
      "2025-02-26 19:55:33,517 - Downloading from IDC v20 index\n",
      "2025-02-26 19:55:33,552 - Identified matching PatientID: ['TCGA-TM-A7CF']\n",
      "2025-02-26 19:55:33,570 - Total free space on disk: 128.62763008 GB\n",
      "2025-02-26 19:55:33,661 - Not using s5cmd sync as the destination folder is empty or sync or progress bar is not requested\n",
      "2025-02-26 19:55:33,662 - Initial size of the directory: 0 bytes\n",
      "2025-02-26 19:55:33,662 - Approximate size of the files that need to be downloaded: 4.19 GB\n",
      "Downloading data: 100%|██████████| 4.19G/4.19G [14:24<00:00, 4.84MB/s]\n",
      "2025-02-26 20:09:57,899 - Successfully downloaded files to /home/emirhan/Desktop/deneme\n"
     ]
    },
    {
     "name": "stdout",
     "output_type": "stream",
     "text": [
      "Source directory not found for TCGA-TM-A7CF: /home/emirhan/tcga_lgg/TCGA-TM-A7CF\n"
     ]
    }
   ],
   "source": [
    "import os\n",
    "import subprocess\n",
    "import shutil\n",
    "\n",
    "# Hastaların ID'lerini listeler halinde tanımlayın\n",
    "oligodendroglioma_ids = [\n",
    "    \"TCGA-E1-5311\",\"TCGA-HT-7677\",\"TCGA-DU-7009\",\"TCGA-FG-8191\",\"TCGA-S9-A7J3\"\n",
    "    \n",
    "]\n",
    "\n",
    "astrocytoma_ids = [\n",
    "    \"TCGA-VM-A8CF\", \"TCGA-DU-A5TY\", \"TCGA-HT-7604\", \"TCGA-S9-A7IZ\", \"TCGA-TM-A7CF\",\n",
    "    \n",
    "    \n",
    "]\n",
    "\n",
    "\n",
    "\n",
    "home_dir = os.path.expanduser(\"~\")\n",
    "tcga_lgg_dir = os.path.join(home_dir, \"tcga_lgg\")\n",
    "oligodendroglioma_dir = os.path.join(home_dir, \"oligodendroglioma\")\n",
    "astrocytoma_dir = os.path.join(home_dir, \"astrocytoma\")\n",
    "\n",
    "\n",
    "os.makedirs(oligodendroglioma_dir, exist_ok=True)\n",
    "os.makedirs(astrocytoma_dir, exist_ok=True)\n",
    "\n",
    "def download_and_categorize(patient_id, category_dir):\n",
    "    \"\"\"Hastayı indir, ardından hedef klasöre taşı.\"\"\"\n",
    "    try:\n",
    "        \n",
    "        command = f\"idc download {patient_id}\"\n",
    "        print(f\"Running: {command}\")\n",
    "        subprocess.run(command, shell=True, check=True)\n",
    "\n",
    "        \n",
    "        source_dir = os.path.join(tcga_lgg_dir, patient_id)\n",
    "\n",
    "        if os.path.exists(source_dir):\n",
    "            # Hedef dizine taşı\n",
    "            destination_dir = os.path.join(category_dir, patient_id)\n",
    "            shutil.move(source_dir, destination_dir)\n",
    "            print(f\"Moved {patient_id} to {category_dir}\")\n",
    "        else:\n",
    "            print(f\"Source directory not found for {patient_id}: {source_dir}\")\n",
    "    except subprocess.CalledProcessError as e:\n",
    "        print(f\"Error downloading {patient_id}: {e}\")\n",
    "    except Exception as ex:\n",
    "        print(f\"Unexpected error: {ex}\")\n",
    "\n",
    "# Oligodendroglioma hastalarını indir ve taşı\n",
    "for patient_id in oligodendroglioma_ids:\n",
    "    download_and_categorize(patient_id, oligodendroglioma_dir)\n",
    "\n",
    "# Astrocytoma hastalarını indir ve taşı\n",
    "for patient_id in astrocytoma_ids:\n",
    "    download_and_categorize(patient_id, astrocytoma_dir)\n"
   ]
  },
  {
   "cell_type": "code",
   "execution_count": 1,
   "id": "341429c1",
   "metadata": {},
   "outputs": [
    {
     "name": "stderr",
     "output_type": "stream",
     "text": [
      "2025-03-26 15:39:45.722999: E external/local_xla/xla/stream_executor/cuda/cuda_fft.cc:485] Unable to register cuFFT factory: Attempting to register factory for plugin cuFFT when one has already been registered\n",
      "2025-03-26 15:39:45.974998: E external/local_xla/xla/stream_executor/cuda/cuda_dnn.cc:8454] Unable to register cuDNN factory: Attempting to register factory for plugin cuDNN when one has already been registered\n",
      "2025-03-26 15:39:46.123361: E external/local_xla/xla/stream_executor/cuda/cuda_blas.cc:1452] Unable to register cuBLAS factory: Attempting to register factory for plugin cuBLAS when one has already been registered\n",
      "2025-03-26 15:39:46.575259: I tensorflow/core/platform/cpu_feature_guard.cc:210] This TensorFlow binary is optimized to use available CPU instructions in performance-critical operations.\n",
      "To enable the following instructions: AVX2 FMA, in other operations, rebuild TensorFlow with the appropriate compiler flags.\n",
      "2025-03-26 15:39:52.788623: W tensorflow/compiler/tf2tensorrt/utils/py_utils.cc:38] TF-TRT Warning: Could not find TensorRT\n"
     ]
    },
    {
     "name": "stdout",
     "output_type": "stream",
     "text": [
      "Num GPUs Available:  0\n"
     ]
    },
    {
     "name": "stderr",
     "output_type": "stream",
     "text": [
      "2025-03-26 15:40:00.483972: E external/local_xla/xla/stream_executor/cuda/cuda_driver.cc:266] failed call to cuInit: CUDA_ERROR_NO_DEVICE: no CUDA-capable device is detected\n"
     ]
    }
   ],
   "source": [
    "import tensorflow as tf\n",
    "\n",
    "# TensorFlow'un GPU'yu tespit ettiğini kontrol et\n",
    "print(\"Num GPUs Available: \", len(tf.config.experimental.list_physical_devices('GPU')))\n",
    "\n",
    "# Eğer GPU'lar bulunuyorsa, TensorFlow bu GPU'yu kullanacaktır.\n"
   ]
  },
  {
   "cell_type": "code",
   "execution_count": 4,
   "id": "ed6179f4-4f2d-4237-ab64-9067e7b777d5",
   "metadata": {},
   "outputs": [
    {
     "name": "stdout",
     "output_type": "stream",
     "text": [
      "Running: idc download TCGA-E1-5311\n"
     ]
    },
    {
     "name": "stderr",
     "output_type": "stream",
     "text": [
      "2025-02-26 20:25:12,249 - Downloading from IDC v20 index\n",
      "2025-02-26 20:25:12,284 - Identified matching PatientID: ['TCGA-E1-5311']\n",
      "2025-02-26 20:25:12,299 - Total free space on disk: 122.786680832 GB\n",
      "2025-02-26 20:25:12,392 - Not using s5cmd sync as the destination folder is empty or sync or progress bar is not requested\n",
      "2025-02-26 20:25:12,394 - Initial size of the directory: 0 bytes\n",
      "2025-02-26 20:25:12,394 - Approximate size of the files that need to be downloaded: 331.76 MB\n",
      "Downloading data: 100%|██████████| 332M/332M [01:44<00:00, 3.17MB/s] \n",
      "2025-02-26 20:26:57,086 - Successfully downloaded files to /home/emirhan/Desktop/deneme\n"
     ]
    },
    {
     "name": "stdout",
     "output_type": "stream",
     "text": [
      "Source directory not found for TCGA-E1-5311: /home/emirhan/tcga_data/TCGA-E1-5311\n",
      "Running: idc download TCGA-HT-7677\n"
     ]
    },
    {
     "name": "stderr",
     "output_type": "stream",
     "text": [
      "2025-02-26 20:27:01,686 - Downloading from IDC v20 index\n",
      "2025-02-26 20:27:01,711 - Identified matching PatientID: ['TCGA-HT-7677']\n",
      "2025-02-26 20:27:01,727 - Total free space on disk: 122.45041152 GB\n",
      "2025-02-26 20:27:01,795 - Not using s5cmd sync as the destination folder is empty or sync or progress bar is not requested\n",
      "2025-02-26 20:27:01,796 - Initial size of the directory: 0 bytes\n",
      "2025-02-26 20:27:01,796 - Approximate size of the files that need to be downloaded: 5.62 GB\n",
      "Downloading data: 100%|█████████▉| 5.62G/5.62G [11:21<00:00, 8.24MB/s]\n",
      "2025-02-26 20:38:23,478 - Successfully downloaded files to /home/emirhan/Desktop/deneme\n"
     ]
    },
    {
     "name": "stdout",
     "output_type": "stream",
     "text": [
      "Source directory not found for TCGA-HT-7677: /home/emirhan/tcga_data/TCGA-HT-7677\n",
      "Running: idc download TCGA-DU-7009\n"
     ]
    },
    {
     "name": "stderr",
     "output_type": "stream",
     "text": [
      "2025-02-26 20:38:27,492 - Downloading from IDC v20 index\n",
      "2025-02-26 20:38:27,518 - Identified matching PatientID: ['TCGA-DU-7009']\n",
      "2025-02-26 20:38:27,533 - Total free space on disk: 116.776247296 GB\n",
      "2025-02-26 20:38:27,601 - Not using s5cmd sync as the destination folder is empty or sync or progress bar is not requested\n",
      "2025-02-26 20:38:27,602 - Initial size of the directory: 0 bytes\n",
      "2025-02-26 20:38:27,602 - Approximate size of the files that need to be downloaded: 622.79 MB\n",
      "Downloading data: 100%|█████████▉| 623M/623M [02:20<00:00, 4.42MB/s] \n",
      "2025-02-26 20:40:48,426 - Successfully downloaded files to /home/emirhan/Desktop/deneme\n"
     ]
    },
    {
     "name": "stdout",
     "output_type": "stream",
     "text": [
      "Source directory not found for TCGA-DU-7009: /home/emirhan/tcga_data/TCGA-DU-7009\n",
      "Running: idc download TCGA-FG-8191\n"
     ]
    },
    {
     "name": "stderr",
     "output_type": "stream",
     "text": [
      "2025-02-26 20:40:53,015 - Downloading from IDC v20 index\n",
      "2025-02-26 20:40:53,043 - Identified matching PatientID: ['TCGA-FG-8191']\n",
      "2025-02-26 20:40:53,060 - Total free space on disk: 116.149936128 GB\n",
      "2025-02-26 20:40:53,147 - Not using s5cmd sync as the destination folder is empty or sync or progress bar is not requested\n",
      "2025-02-26 20:40:53,148 - Initial size of the directory: 0 bytes\n",
      "2025-02-26 20:40:53,148 - Approximate size of the files that need to be downloaded: 927.43 MB\n",
      "Downloading data: 100%|██████████| 927M/927M [03:39<00:00, 4.22MB/s] \n",
      "2025-02-26 20:44:33,065 - Successfully downloaded files to /home/emirhan/Desktop/deneme\n"
     ]
    },
    {
     "name": "stdout",
     "output_type": "stream",
     "text": [
      "Source directory not found for TCGA-FG-8191: /home/emirhan/tcga_data/TCGA-FG-8191\n",
      "Running: idc download TCGA-S9-A7J3\n"
     ]
    },
    {
     "name": "stderr",
     "output_type": "stream",
     "text": [
      "2025-02-26 20:44:36,873 - Downloading from IDC v20 index\n",
      "2025-02-26 20:44:36,899 - Identified matching PatientID: ['TCGA-S9-A7J3']\n",
      "2025-02-26 20:44:36,915 - Total free space on disk: 115.2237568 GB\n",
      "2025-02-26 20:44:36,981 - Not using s5cmd sync as the destination folder is empty or sync or progress bar is not requested\n",
      "2025-02-26 20:44:36,982 - Initial size of the directory: 0 bytes\n",
      "2025-02-26 20:44:36,982 - Approximate size of the files that need to be downloaded: 673.35 MB\n",
      "Downloading data: 100%|█████████▉| 673M/673M [02:39<00:00, 4.21MB/s] \n",
      "2025-02-26 20:47:16,794 - Successfully downloaded files to /home/emirhan/Desktop/deneme\n"
     ]
    },
    {
     "name": "stdout",
     "output_type": "stream",
     "text": [
      "Source directory not found for TCGA-S9-A7J3: /home/emirhan/tcga_data/TCGA-S9-A7J3\n"
     ]
    }
   ],
   "source": [
    "import os\n",
    "import subprocess\n",
    "import shutil\n",
    "\n",
    "\n",
    "patient_ids = [\n",
    "    \"TCGA-E1-5311\",\"TCGA-HT-7677\",\"TCGA-DU-7009\",\"TCGA-FG-8191\",\"TCGA-S9-A7J3\",\n",
    "]\n",
    "\n",
    "# Ana klasör ve alt klasörlerin yollarını oluştur\n",
    "home_dir = os.path.expanduser(\"~\")\n",
    "tcga_main_dir = os.path.join(home_dir, \"tcga_data\")\n",
    "tcga_patient_dir = os.path.join(tcga_main_dir, \"patients\")\n",
    "\n",
    "os.makedirs(tcga_patient_dir, exist_ok=True)\n",
    "\n",
    "def download_and_categorize(patient_id, destination_dir):\n",
    "    \"\"\"Hastayı indir, ardından hedef klasöre taşı.\"\"\"\n",
    "    try:\n",
    "        # Hasta verisini indir\n",
    "        command = f\"idc download {patient_id}\"\n",
    "        print(f\"Running: {command}\")\n",
    "        subprocess.run(command, shell=True, check=True)\n",
    "\n",
    "        # İndirilen hasta klasörünü kontrol et\n",
    "        source_dir = os.path.join(tcga_main_dir, patient_id)\n",
    "\n",
    "        if os.path.exists(source_dir):\n",
    "            # Hedef dizine taşı\n",
    "            final_dir = os.path.join(destination_dir, patient_id)\n",
    "            shutil.move(source_dir, final_dir)\n",
    "            print(f\"Moved {patient_id} to {destination_dir}\")\n",
    "        else:\n",
    "            print(f\"Source directory not found for {patient_id}: {source_dir}\")\n",
    "    except subprocess.CalledProcessError as e:\n",
    "        print(f\"Error downloading {patient_id}: {e}\")\n",
    "    except Exception as ex:\n",
    "        print(f\"Unexpected error: {ex}\")\n",
    "\n",
    "# Hastaları indir ve taşı\n",
    "for patient_id in patient_ids:\n",
    "    download_and_categorize(patient_id, tcga_patient_dir)"
   ]
  },
  {
   "cell_type": "code",
   "execution_count": null,
   "id": "bf10ec25-3334-4d01-bc7b-63ec8f895e5f",
   "metadata": {},
   "outputs": [],
   "source": []
  }
 ],
 "metadata": {
  "kernelspec": {
   "display_name": "thesis",
   "language": "python",
   "name": "python3"
  },
  "language_info": {
   "codemirror_mode": {
    "name": "ipython",
    "version": 3
   },
   "file_extension": ".py",
   "mimetype": "text/x-python",
   "name": "python",
   "nbconvert_exporter": "python",
   "pygments_lexer": "ipython3",
   "version": "3.12.8"
  }
 },
 "nbformat": 4,
 "nbformat_minor": 5
}
