{
 "cells": [
  {
   "cell_type": "code",
   "execution_count": 15,
   "id": "ce7c9ddd-9197-4605-a809-7ebfe6d7e2a9",
   "metadata": {},
   "outputs": [
    {
     "name": "stdout",
     "output_type": "stream",
     "text": [
      "Processed and saved: Tcga_lgg_olio_filtered/TCGA-FG-8191_1a027670-7b93-4310-b55e-ddb017f64663.dcm\n",
      "Processed and saved: Tcga_lgg_olio_filtered/TCGA-E1-5311_eae34e16-ffce-4d23-9847-8f0fa4bfc8c6.dcm\n"
     ]
    }
   ],
   "source": [
    "import os\n",
    "import gc\n",
    "import Filter\n",
    "import pydicom\n",
    "\n",
    "# Kaynak ve hedef klasörleri tanımlayın\n",
    "source_dir = \"Tcga_lgg_olio_ready\"\n",
    "target_dir = \"Tcga_lgg_olio_filtered\"\n",
    "\n",
    "# Hedef klasörü oluştur (varsa atla)\n",
    "os.makedirs(target_dir, exist_ok=True)\n",
    "\n",
    "# Klasördeki tüm DICOM dosyalarını işle\n",
    "for filename in os.listdir(source_dir):\n",
    "    if filename.endswith(\".dcm\"):\n",
    "        file_path = os.path.join(source_dir, filename)\n",
    "        \n",
    "        # RAM temizleme\n",
    "        gc.collect()\n",
    "        \n",
    "        # DICOM dosyasını filtrele\n",
    "        ds = Filter.white_filter(file_path)\n",
    "        \n",
    "        # Yeni dosya adı oluştur\n",
    "        new_filename = f\"{ds.StudyID}_{filename}\"\n",
    "        new_file_path = os.path.join(target_dir, new_filename)\n",
    "        \n",
    "        # İşlenmiş dosyayı kaydet\n",
    "        ds.save_as(new_file_path)\n",
    "        print(f\"Processed and saved: {new_file_path}\")\n"
   ]
  },
  {
   "cell_type": "code",
   "execution_count": 7,
   "id": "4928d674",
   "metadata": {},
   "outputs": [],
   "source": []
  },
  {
   "cell_type": "code",
   "execution_count": 12,
   "id": "a6d8cc17",
   "metadata": {},
   "outputs": [
    {
     "name": "stdout",
     "output_type": "stream",
     "text": [
      "1fe1a0ed-c832-4096-a7cc-72b61d4fb592.dcm\n",
      "TCGA-TM-A7CF\n",
      "2.25.29106868053795004305111913206257987987\n"
     ]
    }
   ],
   "source": []
  },
  {
   "cell_type": "code",
   "execution_count": null,
   "id": "fa0b2a28",
   "metadata": {},
   "outputs": [],
   "source": []
  }
 ],
 "metadata": {
  "kernelspec": {
   "display_name": "Python 3 (ipykernel)",
   "language": "python",
   "name": "python3"
  },
  "language_info": {
   "codemirror_mode": {
    "name": "ipython",
    "version": 3
   },
   "file_extension": ".py",
   "mimetype": "text/x-python",
   "name": "python",
   "nbconvert_exporter": "python",
   "pygments_lexer": "ipython3",
   "version": "3.12.8"
  }
 },
 "nbformat": 4,
 "nbformat_minor": 5
}
