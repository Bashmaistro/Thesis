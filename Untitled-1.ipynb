{
 "cells": [
  {
   "cell_type": "code",
   "execution_count": 1,
   "metadata": {},
   "outputs": [
    {
     "name": "stdout",
     "output_type": "stream",
     "text": [
      "Processing folder: Tcga_lgg_olio_filtered\n"
     ]
    },
    {
     "ename": "FileNotFoundError",
     "evalue": "[Errno 2] No such file or directory: 'Tcga_lgg_olio_filtered'",
     "output_type": "error",
     "traceback": [
      "\u001b[0;31m---------------------------------------------------------------------------\u001b[0m",
      "\u001b[0;31mFileNotFoundError\u001b[0m                         Traceback (most recent call last)",
      "Cell \u001b[0;32mIn[1], line 23\u001b[0m\n\u001b[1;32m     20\u001b[0m batch_data \u001b[38;5;241m=\u001b[39m []\n\u001b[1;32m     22\u001b[0m \u001b[38;5;66;03m# Klasördeki tüm DCM dosyalarını al\u001b[39;00m\n\u001b[0;32m---> 23\u001b[0m \u001b[38;5;28;01mfor\u001b[39;00m file \u001b[38;5;129;01min\u001b[39;00m \u001b[43mos\u001b[49m\u001b[38;5;241;43m.\u001b[39;49m\u001b[43mlistdir\u001b[49m\u001b[43m(\u001b[49m\u001b[43mfolder\u001b[49m\u001b[43m)\u001b[49m:\n\u001b[1;32m     24\u001b[0m     \u001b[38;5;28;01mif\u001b[39;00m file\u001b[38;5;241m.\u001b[39mendswith(\u001b[38;5;124m\"\u001b[39m\u001b[38;5;124m.dcm\u001b[39m\u001b[38;5;124m\"\u001b[39m):\n\u001b[1;32m     25\u001b[0m         dcm_path \u001b[38;5;241m=\u001b[39m os\u001b[38;5;241m.\u001b[39mpath\u001b[38;5;241m.\u001b[39mjoin(folder, file)\n",
      "\u001b[0;31mFileNotFoundError\u001b[0m: [Errno 2] No such file or directory: 'Tcga_lgg_olio_filtered'"
     ]
    }
   ],
   "source": [
    "import os\n",
    "import numpy as np\n",
    "import pydicom\n",
    "from sklearn.cluster import MiniBatchKMeans\n",
    "from pydicom.pixels import iter_pixels\n",
    "\n",
    "\n",
    "n_clusters = 10 \n",
    "batch_size = 100  \n",
    "\n",
    "\n",
    "folders = [\"Tcga_lgg_olio_filtered\", \"Tcga_lgg_astro_filtered\", \"Tcga_gbm_filtered\"]\n",
    "\n",
    "\n",
    "kmeans = MiniBatchKMeans(n_clusters=n_clusters, batch_size=batch_size, random_state=42)\n",
    "\n",
    "# Her klasörü ayrı batch olarak işle\n",
    "for folder in folders:\n",
    "    print(f\"Processing folder: {folder}\")\n",
    "    batch_data = []\n",
    "\n",
    "    # Klasördeki tüm DCM dosyalarını al\n",
    "    for file in os.listdir(folder):\n",
    "        if file.endswith(\".dcm\"):\n",
    "            dcm_path = os.path.join(folder, file)\n",
    "            \n",
    "            with open(dcm_path, \"rb\") as f:\n",
    "                for arr in iter_pixels(f, indices=range(0, 10, 2)):\n",
    "                    print(arr.shape)\n",
    "\n",
    "    \n",
    "    \n",
    "   \n",
    "\n",
    "print(\"Clustering completed!\")\n"
   ]
  }
 ],
 "metadata": {
  "kernelspec": {
   "display_name": "thesis",
   "language": "python",
   "name": "python3"
  },
  "language_info": {
   "codemirror_mode": {
    "name": "ipython",
    "version": 3
   },
   "file_extension": ".py",
   "mimetype": "text/x-python",
   "name": "python",
   "nbconvert_exporter": "python",
   "pygments_lexer": "ipython3",
   "version": "3.12.8"
  }
 },
 "nbformat": 4,
 "nbformat_minor": 2
}
